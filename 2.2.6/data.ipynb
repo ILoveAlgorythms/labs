{
 "cells": [
  {
   "cell_type": "code",
   "execution_count": 2,
   "metadata": {},
   "outputs": [],
   "source": [
    "# этот ноутбук относится к лабе 2.2.6\n",
    "\n",
    "import numpy as np\n",
    "import pandas as pd\n",
    "import matplotlib.pyplot as plt\n",
    "\n",
    "# import matplotlib.colors as mcolors\n",
    "# print(mcolors.CSS4_COLORS.keys())\n",
    "# for i in range(10):\n",
    "#   plt.scatter(i, (i + 2) % 3,marker=(6,1, i*40), linewidths=2, s=1000, color='deeppink')\n",
    "\n",
    "# plt.scatter(range(len(f_res)),  f_res, marker='$хуй$', linewidths=0.1)"
   ]
  },
  {
   "attachments": {},
   "cell_type": "markdown",
   "metadata": {},
   "source": [
    "микроскоп -- https://vostok-7.ru/catalog/mikroskopy_otschyetnye_po_brinellyu/mpb_3_mikroskop_otschyetnyy_brinell/\n",
    "\n",
    "расстояние между рисками -- 10.0, 9.8"
   ]
  },
  {
   "cell_type": "code",
   "execution_count": 3,
   "metadata": {},
   "outputs": [],
   "source": [
    "d = np.array((2.2, 2.1, 0.8, 0.7, 1.9, 2.1, 0.75, 0.85, 2, 2.1, 0.85, 0.7,\n",
    "2.1, 2.0, 0.9, 0.7, 2.1, 2.0, 0.8, 0.75, 2.0, 0.6, 0.6, 2.0)) # мм"
   ]
  },
  {
   "cell_type": "code",
   "execution_count": 4,
   "metadata": {},
   "outputs": [],
   "source": [
    "# v ~ r*r/eta ~ 1/t\n",
    "#temp = 22.30\n",
    "t = (33.81, 35.66, 38.99, 43.63, 33.85) # с\n",
    "#temp = 30.40                          30.90\n",
    "t2 = (26.63, -1, 26.05, 19.6, 17.8, 23.93, 22.26) # с\n",
    "#   temp:      40.92         40.85  40.80\n",
    "t3 = (10.91, 10.35, 11.81, 16.20)\n",
    "#   temp:      50.93 50.97  50.89\n",
    "t4 = (6.95, 6.33,  7.60,  7.70)\n",
    "#   temp:60.93     60.79 \n",
    "t5 = (3.20,  7.63, 6.20, 2.80)"
   ]
  },
  {
   "cell_type": "code",
   "execution_count": 5,
   "metadata": {},
   "outputs": [],
   "source": [
    "temp = (22.30, 22.30, 22.30, 22.30, 22.30,\n",
    "30.40, 30.40, 30.40, 30.40, 30.40, 30.90, 30.90,\n",
    "40.92, 40.92, 40.85, 40.80,\n",
    "50.93, 50.97, 50.89, 50.89,\n",
    "60.93, 60.93, 60.79, 60.79)"
   ]
  },
  {
   "cell_type": "code",
   "execution_count": 8,
   "metadata": {},
   "outputs": [],
   "source": [
    "a = pd.DataFrame()\n",
    "a['diametr'] = d\n",
    "a['time'] = t + t2 + t3 + t4 + t5\n",
    "a['temp'] = temp\n",
    "a.to_csv(\"data.csv\")"
   ]
  },
  {
   "cell_type": "code",
   "execution_count": 7,
   "metadata": {},
   "outputs": [
    {
     "ename": "NameError",
     "evalue": "name 'i' is not defined",
     "output_type": "error",
     "traceback": [
      "\u001b[0;31m---------------------------------------------------------------------------\u001b[0m",
      "\u001b[0;31mNameError\u001b[0m                                 Traceback (most recent call last)",
      "Cell \u001b[0;32mIn[7], line 1\u001b[0m\n\u001b[0;32m----> 1\u001b[0m ox \u001b[39m=\u001b[39m np\u001b[39m.\u001b[39marange(\u001b[39mlen\u001b[39m(i))\n\u001b[1;32m      2\u001b[0m oy \u001b[39m=\u001b[39m i\n\u001b[1;32m      3\u001b[0m plt\u001b[39m.\u001b[39mscatter(\n\u001b[1;32m      4\u001b[0m   ox,  \u001b[39m# ординаты точек\u001b[39;00m\n\u001b[1;32m      5\u001b[0m   oy,  \u001b[39m# абсциссы точек\u001b[39;00m\n\u001b[1;32m      6\u001b[0m   s\u001b[39m=\u001b[39m\u001b[39m1\u001b[39m,\n\u001b[1;32m      7\u001b[0m   label\u001b[39m=\u001b[39m\u001b[39m\"\u001b[39m\u001b[39mL(n), f = \u001b[39m\u001b[39m\"\u001b[39m \u001b[39m+\u001b[39m \u001b[39mstr\u001b[39m(f[index]) \u001b[39m+\u001b[39m \u001b[39m\"\u001b[39m\u001b[39mkHz\u001b[39m\u001b[39m\"\u001b[39m\n\u001b[1;32m      8\u001b[0m )\n",
      "\u001b[0;31mNameError\u001b[0m: name 'i' is not defined"
     ]
    }
   ],
   "source": [
    "ox = np.arange(len(i))\n",
    "oy = i\n",
    "plt.scatter(\n",
    "  ox,  # ординаты точек\n",
    "  oy,  # абсциссы точек\n",
    "  s=1,\n",
    "  label=\"L(n), f = \" + str(f[index]) + \"kHz\"\n",
    ")\n",
    "\n",
    "if (len(i) == 2):\n",
    "  print (oy[1] - oy[0])\n",
    "else :\n",
    "  z1, res= np.polyfit(ox, oy, 1, full=False, cov=True)\n",
    "  p1 = np.poly1d(z1)\n",
    "  plt.plot(ox, p1(ox), linewidth=0.7, color='red', linestyle='--')\n",
    "\n",
    "\n",
    "  # plt.xticks(np.around(ox[::20]))\n",
    "  # plt.yticks(np.around(oy[::20]))\n",
    "  print(str(f[index]), str(p1), \"eror:\", (res[0][0] ** 0.5)/((z1[0])**2))\n",
    "plt.legend(loc='best')\n",
    "plt.show()"
   ]
  }
 ],
 "metadata": {
  "kernelspec": {
   "display_name": "Python 3",
   "language": "python",
   "name": "python3"
  },
  "language_info": {
   "codemirror_mode": {
    "name": "ipython",
    "version": 3
   },
   "file_extension": ".py",
   "mimetype": "text/x-python",
   "name": "python",
   "nbconvert_exporter": "python",
   "pygments_lexer": "ipython3",
   "version": "3.8.10"
  },
  "orig_nbformat": 4
 },
 "nbformat": 4,
 "nbformat_minor": 2
}
