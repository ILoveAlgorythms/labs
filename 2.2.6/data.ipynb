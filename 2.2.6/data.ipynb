{
 "cells": [
  {
   "cell_type": "code",
   "execution_count": 1,
   "metadata": {},
   "outputs": [],
   "source": [
    "# этот ноутбук относится к лабе 2.2.6\n",
    "\n",
    "import numpy as np\n",
    "import pandas as pd\n",
    "import matplotlib.pyplot as plt\n",
    "\n",
    "# import matplotlib.colors as mcolors\n",
    "# print(mcolors.CSS4_COLORS.keys())\n",
    "# for i in range(10):\n",
    "#   plt.scatter(i, (i + 2) % 3,marker=(6,1, i*40), linewidths=2, s=1000, color='deeppink')\n",
    "\n",
    "# plt.scatter(range(len(f_res)),  f_res, marker='$хуй$', linewidths=0.1)"
   ]
  },
  {
   "cell_type": "code",
   "execution_count": null,
   "metadata": {},
   "outputs": [],
   "source": [
    "for index, i in enumerate((l1, l2)):\n",
    "  ox = np.arange(len(i))\n",
    "  oy = i\n",
    "  plt.scatter(\n",
    "    ox,  # ординаты точек\n",
    "    oy,  # абсциссы точек\n",
    "    s=1,\n",
    "    label=\"L(n), f = \" + str(f[index]) + \"kHz\"\n",
    "  )\n",
    "\n",
    "  if (len(i) == 2):\n",
    "    print (oy[1] - oy[0])\n",
    "  else :\n",
    "    z1, res= np.polyfit(ox, oy, 1, full=False, cov=True)\n",
    "    p1 = np.poly1d(z1)\n",
    "    plt.plot(ox, p1(ox), linewidth=0.7, color='red', linestyle='--')\n",
    "\n",
    "\n",
    "    # plt.xticks(np.around(ox[::20]))\n",
    "    # plt.yticks(np.around(oy[::20]))\n",
    "    print(str(f[index]), str(p1), \"eror:\", (res[0][0] ** 0.5)/((z1[0])**2))\n",
    "  plt.legend(loc='best')\n",
    "  plt.show()"
   ]
  }
 ],
 "metadata": {
  "kernelspec": {
   "display_name": "Python 3",
   "language": "python",
   "name": "python3"
  },
  "language_info": {
   "codemirror_mode": {
    "name": "ipython",
    "version": 3
   },
   "file_extension": ".py",
   "mimetype": "text/x-python",
   "name": "python",
   "nbconvert_exporter": "python",
   "pygments_lexer": "ipython3",
   "version": "3.8.10"
  },
  "orig_nbformat": 4
 },
 "nbformat": 4,
 "nbformat_minor": 2
}
