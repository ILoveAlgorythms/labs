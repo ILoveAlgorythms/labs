{
 "cells": [
  {
   "cell_type": "code",
   "execution_count": 1,
   "metadata": {},
   "outputs": [],
   "source": [
    "# этот ноутбук относится к лабе 3.4.5\n",
    "import numpy as np\n",
    "import pandas as pd\n",
    "import matplotlib.pyplot as plt\n",
    "from pyperclip import copy as cp"
   ]
  },
  {
   "cell_type": "code",
   "execution_count": 12,
   "metadata": {},
   "outputs": [],
   "source": [
    "Ri = 20*10**3\n",
    "Ci = 20*10**-6\n",
    "R0 = 0.22\n",
    "w = 50"
   ]
  },
  {
   "cell_type": "code",
   "execution_count": 89,
   "metadata": {},
   "outputs": [
    {
     "data": {
      "text/html": [
       "<div>\n",
       "<style scoped>\n",
       "    .dataframe tbody tr th:only-of-type {\n",
       "        vertical-align: middle;\n",
       "    }\n",
       "\n",
       "    .dataframe tbody tr th {\n",
       "        vertical-align: top;\n",
       "    }\n",
       "\n",
       "    .dataframe thead th {\n",
       "        text-align: right;\n",
       "    }\n",
       "</style>\n",
       "<table border=\"1\" class=\"dataframe\">\n",
       "  <thead>\n",
       "    <tr style=\"text-align: right;\">\n",
       "      <th></th>\n",
       "      <th>p</th>\n",
       "      <th>f</th>\n",
       "      <th>k</th>\n",
       "    </tr>\n",
       "  </thead>\n",
       "  <tbody>\n",
       "    <tr>\n",
       "      <th>N0</th>\n",
       "      <td>15.000000</td>\n",
       "      <td>45.0000</td>\n",
       "      <td>20.0000</td>\n",
       "    </tr>\n",
       "    <tr>\n",
       "      <th>Nu</th>\n",
       "      <td>300.000000</td>\n",
       "      <td>400.0000</td>\n",
       "      <td>200.0000</td>\n",
       "    </tr>\n",
       "    <tr>\n",
       "      <th>S</th>\n",
       "      <td>0.000066</td>\n",
       "      <td>0.0003</td>\n",
       "      <td>0.0002</td>\n",
       "    </tr>\n",
       "    <tr>\n",
       "      <th>2pr</th>\n",
       "      <td>0.001410</td>\n",
       "      <td>0.0025</td>\n",
       "      <td>0.0011</td>\n",
       "    </tr>\n",
       "    <tr>\n",
       "      <th>i</th>\n",
       "      <td>0.229000</td>\n",
       "      <td>0.9377</td>\n",
       "      <td>1.2978</td>\n",
       "    </tr>\n",
       "  </tbody>\n",
       "</table>\n",
       "</div>"
      ],
      "text/plain": [
       "              p         f         k\n",
       "N0    15.000000   45.0000   20.0000\n",
       "Nu   300.000000  400.0000  200.0000\n",
       "S      0.000066    0.0003    0.0002\n",
       "2pr    0.001410    0.0025    0.0011\n",
       "i      0.229000    0.9377    1.2978"
      ]
     },
     "execution_count": 89,
     "metadata": {},
     "output_type": "execute_result"
    }
   ],
   "source": [
    "data = pd.DataFrame()\n",
    "data['N0'] = [15, 45, 20]\n",
    "data['Nu'] = [300, 400, 200]\n",
    "data['S']  = [0.66, 3, 2]\n",
    "data['S']  = data['S'] * 10**-4\n",
    "data['2pr']= [14.1, 25, 11]\n",
    "data['2pr']= data['2pr'] * 10**-4\n",
    "data['i']  = [0.229, 0.9377, 1.2978]\n",
    "data = data.T\n",
    "data.rename(columns={0: 'p', 1:'f', 2:'k'}, inplace=True)\n",
    "data"
   ]
  },
  {
   "cell_type": "code",
   "execution_count": 91,
   "metadata": {},
   "outputs": [
    {
     "data": {
      "text/plain": [
       "p     2436.170213\n",
       "f    16878.600000\n",
       "k    23596.363636\n",
       "Name: H, dtype: float64"
      ]
     },
     "execution_count": 91,
     "metadata": {},
     "output_type": "execute_result"
    }
   ],
   "source": [
    "data.loc['H'] = data.loc['i'] * data.loc['N0'] / data.loc['2pr']\n",
    "data.loc['H']"
   ]
  },
  {
   "cell_type": "markdown",
   "metadata": {},
   "source": [
    "## Пермаллой\n",
    "$K_x = 20, K_y=50$\n"
   ]
  },
  {
   "cell_type": "code",
   "execution_count": 61,
   "metadata": {},
   "outputs": [],
   "source": [
    "# пермаллой, в больших клетках\n",
    "x = pd.DataFrame(\n",
    "  [3,  2,   1.6,   1, ]\n",
    ")\n",
    "y = pd.DataFrame(\n",
    "  [1.7, 1.6, 1.2, 1.2]\n",
    ")"
   ]
  },
  {
   "cell_type": "code",
   "execution_count": null,
   "metadata": {},
   "outputs": [],
   "source": [
    "# феррит, в больших клетках\n",
    "kx= pd.DataFrame(\n",
    "  [0.05, 0.05, 0.05, 0.01, ..., 0.005]\n",
    ")\n",
    "x = pd.DataFrame(\n",
    "  [4,  3,   2,    1,   2,    1,   0.4, 0.8]\n",
    ")\n",
    "y = pd.DataFrame(\n",
    "  [2.8, 2.7, 2.5, 2.2, 1.85, 1.2, 0.8, 0.6]\n",
    ")"
   ]
  },
  {
   "cell_type": "code",
   "execution_count": null,
   "metadata": {},
   "outputs": [],
   "source": [
    "# кремнистое железо, в больших клетках\n",
    "x = [3,   2.3, 1.8, 1.0, 0.9, 0.6, 0.50, 0.3]\n",
    "y = [2.5, 3.0, 2.6, 1.8, 1.5, 1.0, 0.95, 0.3]"
   ]
  },
  {
   "cell_type": "markdown",
   "metadata": {},
   "source": [
    "# II второй пункт"
   ]
  },
  {
   "cell_type": "code",
   "execution_count": null,
   "metadata": {},
   "outputs": [],
   "source": [
    "kx = [0.05,  0.02,  0.01,  0.005, 0.1, ]\n",
    "i  = [0.954, 0.365, 0.189, 0.092, 1.890, ] # A\n",
    "\n",
    "#  Y: Ky=0.02, V = 0.0551, занимает весь экран\n",
    "ky = [0.02,   0.05,   0.01,  ]\n",
    "v  = [0.0550, 0.1366, 0.0260] # V\n",
    "\n",
    "true_kx = R0 * 1.414213 * pd.DataFrame(i) / 5\n",
    "true_kx.index=kx\n",
    "print(true_kx.to_latex())\n",
    "true_ky = 1.414213 * pd.DataFrame(v) / 4\n",
    "true_ky.index=ky\n",
    "print(true_ky.to_latex())"
   ]
  },
  {
   "cell_type": "markdown",
   "metadata": {},
   "source": [
    "# III третий пункт"
   ]
  },
  {
   "cell_type": "code",
   "execution_count": 46,
   "metadata": {},
   "outputs": [
    {
     "data": {
      "text/plain": [
       "0.055154307"
      ]
     },
     "execution_count": 46,
     "metadata": {},
     "output_type": "execute_result"
    }
   ],
   "source": [
    "6 * true_ky[0][0.01]"
   ]
  },
  {
   "cell_type": "code",
   "execution_count": 45,
   "metadata": {},
   "outputs": [
    {
     "name": "stdout",
     "output_type": "stream",
     "text": [
      "0.46170085855132326\n"
     ]
    },
    {
     "data": {
      "text/plain": [
       "0.39999999999999997"
      ]
     },
     "execution_count": 45,
     "metadata": {},
     "output_type": "execute_result"
    }
   ],
   "source": [
    "# 2y = весь экран, Ky=1. переключаем:  2y=6/8 клеток, ky=0.010\n",
    "tau = 8 * 1 / (w *2*np.pi* 6 * true_ky[0][0.01])\n",
    "print(tau)\n",
    "Ri * Ci"
   ]
  },
  {
   "cell_type": "code",
   "execution_count": null,
   "metadata": {},
   "outputs": [],
   "source": [
    "# график пункт 1\n",
    "\n",
    "# график\n",
    "ox = a['v']\n",
    "oy = a['i']\n",
    "\n",
    "plt.scatter(\n",
    "  ox,\n",
    "  oy,\n",
    "  s=10,\n",
    "  label=\"ВАХ разряда\"\n",
    ")\n",
    " # индекс, на котором наклон максимальный\n",
    "r = np.argmax(np.diff(a['i']) / np.diff(a['v']))\n",
    "coefs = np.polyfit((a['v'][r], a['v'][r+1]), (a['i'][r], a['i'][r+1]), 1)\n",
    "poly = np.poly1d(coefs)\n",
    "plt.plot(ox, poly(ox), 'r-', linewidth=0.5, label=\"Максимальное R\")\n",
    "print(r, f\"R_max coefs:  {poly}\" )\n",
    "\n",
    "\n",
    "z1, res= np.polyfit(ox, oy, 1, full=False, cov=True)\n",
    "p1 = np.poly1d(z1)\n",
    "plt.plot(ox, p1(ox), linewidth=0.4, color='green', linestyle='-', label='В тупую')\n",
    "# print(str(p1), \"eror:\", res[0][0] ** 0.5/((z1[0])**2))\n",
    "plt.xlabel(\"V, V\")\n",
    "plt.ylabel(\"I, мА\")\n",
    "plt.grid()\n",
    "plt.ylim(bottom=1.4, top=4.5)\n",
    "plt.legend(loc='best')\n",
    "plt.savefig(\"p1.png\")\n",
    "plt.show()"
   ]
  }
 ],
 "metadata": {
  "kernelspec": {
   "display_name": "Python 3",
   "language": "python",
   "name": "python3"
  },
  "language_info": {
   "codemirror_mode": {
    "name": "ipython",
    "version": 3
   },
   "file_extension": ".py",
   "mimetype": "text/x-python",
   "name": "python",
   "nbconvert_exporter": "python",
   "pygments_lexer": "ipython3",
   "version": "3.8.10"
  },
  "orig_nbformat": 4
 },
 "nbformat": 4,
 "nbformat_minor": 2
}
