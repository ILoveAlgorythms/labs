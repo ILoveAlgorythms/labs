{
 "cells": [
  {
   "cell_type": "code",
   "execution_count": 1,
   "metadata": {},
   "outputs": [],
   "source": [
    "# этот ноутбук относится к лабе 3.4.5\n",
    "import numpy as np\n",
    "import pandas as pd\n",
    "import matplotlib.pyplot as plt"
   ]
  },
  {
   "cell_type": "code",
   "execution_count": 2,
   "metadata": {},
   "outputs": [],
   "source": [
    "Ri = 20*10**3\n",
    "Ci = 20*10**-6\n",
    "R0 = 0.22\n",
    "w = 50"
   ]
  },
  {
   "cell_type": "code",
   "execution_count": 3,
   "metadata": {},
   "outputs": [
    {
     "data": {
      "text/html": [
       "<div>\n",
       "<style scoped>\n",
       "    .dataframe tbody tr th:only-of-type {\n",
       "        vertical-align: middle;\n",
       "    }\n",
       "\n",
       "    .dataframe tbody tr th {\n",
       "        vertical-align: top;\n",
       "    }\n",
       "\n",
       "    .dataframe thead th {\n",
       "        text-align: right;\n",
       "    }\n",
       "</style>\n",
       "<table border=\"1\" class=\"dataframe\">\n",
       "  <thead>\n",
       "    <tr style=\"text-align: right;\">\n",
       "      <th></th>\n",
       "      <th>N0</th>\n",
       "      <th>Nu</th>\n",
       "      <th>S</th>\n",
       "      <th>2pr</th>\n",
       "      <th>i</th>\n",
       "      <th>Ky</th>\n",
       "      <th>Kx</th>\n",
       "      <th>H</th>\n",
       "      <th>B</th>\n",
       "      <th>delta_x</th>\n",
       "      <th>delta_y</th>\n",
       "      <th>lim_y</th>\n",
       "      <th>intersec_x</th>\n",
       "      <th>intersec_y</th>\n",
       "    </tr>\n",
       "  </thead>\n",
       "  <tbody>\n",
       "    <tr>\n",
       "      <th>Fe-Ni</th>\n",
       "      <td>15</td>\n",
       "      <td>300</td>\n",
       "      <td>0.000066</td>\n",
       "      <td>0.141</td>\n",
       "      <td>0.2290</td>\n",
       "      <td>0.048295</td>\n",
       "      <td>0.022712</td>\n",
       "      <td>10.982592</td>\n",
       "      <td>0.975657</td>\n",
       "      <td>2.3</td>\n",
       "      <td>1.8</td>\n",
       "      <td>1.8</td>\n",
       "      <td>2.3</td>\n",
       "      <td>1.8</td>\n",
       "    </tr>\n",
       "    <tr>\n",
       "      <th>Fe</th>\n",
       "      <td>45</td>\n",
       "      <td>400</td>\n",
       "      <td>0.000300</td>\n",
       "      <td>0.250</td>\n",
       "      <td>0.9377</td>\n",
       "      <td>0.048295</td>\n",
       "      <td>0.005725</td>\n",
       "      <td>4.684091</td>\n",
       "      <td>0.160983</td>\n",
       "      <td>1.7</td>\n",
       "      <td>1.2</td>\n",
       "      <td>3.0</td>\n",
       "      <td>1.7</td>\n",
       "      <td>1.2</td>\n",
       "    </tr>\n",
       "    <tr>\n",
       "      <th>Fe-Si</th>\n",
       "      <td>20</td>\n",
       "      <td>200</td>\n",
       "      <td>0.000200</td>\n",
       "      <td>0.110</td>\n",
       "      <td>1.2978</td>\n",
       "      <td>0.019445</td>\n",
       "      <td>0.117606</td>\n",
       "      <td>97.195041</td>\n",
       "      <td>0.194450</td>\n",
       "      <td>0.6</td>\n",
       "      <td>1.6</td>\n",
       "      <td>4.0</td>\n",
       "      <td>0.6</td>\n",
       "      <td>1.6</td>\n",
       "    </tr>\n",
       "  </tbody>\n",
       "</table>\n",
       "</div>"
      ],
      "text/plain": [
       "       N0   Nu         S    2pr       i        Ky        Kx          H  \\\n",
       "Fe-Ni  15  300  0.000066  0.141  0.2290  0.048295  0.022712  10.982592   \n",
       "Fe     45  400  0.000300  0.250  0.9377  0.048295  0.005725   4.684091   \n",
       "Fe-Si  20  200  0.000200  0.110  1.2978  0.019445  0.117606  97.195041   \n",
       "\n",
       "              B  delta_x  delta_y  lim_y  intersec_x  intersec_y  \n",
       "Fe-Ni  0.975657      2.3      1.8    1.8         2.3         1.8  \n",
       "Fe     0.160983      1.7      1.2    3.0         1.7         1.2  \n",
       "Fe-Si  0.194450      0.6      1.6    4.0         0.6         1.6  "
      ]
     },
     "execution_count": 3,
     "metadata": {},
     "output_type": "execute_result"
    }
   ],
   "source": [
    "data = pd.DataFrame()\n",
    "data['N0'] = [15, 45, 20]\n",
    "data['Nu'] = [300, 400, 200]\n",
    "data['S']  = [0.66, 3, 2]\n",
    "data['S']  = data['S'] * 10**-4\n",
    "data['2pr']= [14.1, 25, 11]\n",
    "data['2pr']= data['2pr'] * 10**-2\n",
    "data['i']  = [0.229, 0.9377, 1.2978]\n",
    "# коэффиценты преобразования:\n",
    "data['Ky'] = [0.048295, 0.048295, 0.019445]\n",
    "data['Kx'] = [0.022712, 0.005725, 0.117606]\n",
    "data['H'] = data['Kx'] * data['N0'] / data['2pr'] / R0\n",
    "data['B'] = data['Ky'] * Ri * Ci / (data['S'] * data['Nu'])\n",
    "data.index = [\"Fe-Ni\", \"Fe\", \"Fe-Si\"]\n",
    "\n",
    "data['delta_x'] = [2.3, 1.7, 0.6]\n",
    "data['delta_y'] = [1.8, 1.2, 1.6]\n",
    "data['lim_y']   = [1.8, 3, 4]\n",
    "data['intersec_x'] = [2.3, 1.7, 0.6]\n",
    "data['intersec_y'] = [1.8, 1.2, 1.6]\n",
    "# data = data.T\n",
    "# data.rename(columns={0: 'p', 1:'f', 2:'k'}, inplace=True)\n",
    "data"
   ]
  },
  {
   "cell_type": "code",
   "execution_count": 24,
   "metadata": {},
   "outputs": [],
   "source": [
    "# пермаллой, в больших клетках K_x = 20, K_y=50\n",
    "x1 = pd.DataFrame(\n",
    "  [3,  2,   1.6,   1, ]\n",
    ")\n",
    "y1 = pd.DataFrame(\n",
    "  [1.7, 1.6, 1.2, 1.2]\n",
    ")"
   ]
  },
  {
   "cell_type": "code",
   "execution_count": null,
   "metadata": {},
   "outputs": [],
   "source": [
    "# феррит, в больших клетках\n",
    "kx= pd.DataFrame(\n",
    "  [0.05, 0.05, 0.05, 0.01, 0.01, 0.01, 0.01,0.005] # если где-то есть лажа то тут\n",
    ")\n",
    "x2 = pd.DataFrame([4,  3,   2,    1,   2,    1,   0.4, 0.8]) * kx\n",
    "y2 = pd.DataFrame([2.8, 2.7, 2.5, 2.2, 1.85, 1.2, 0.8, 0.6])\n",
    "x2.values, y2.values"
   ]
  },
  {
   "cell_type": "code",
   "execution_count": 46,
   "metadata": {},
   "outputs": [
    {
     "data": {
      "text/html": [
       "<div>\n",
       "<style scoped>\n",
       "    .dataframe tbody tr th:only-of-type {\n",
       "        vertical-align: middle;\n",
       "    }\n",
       "\n",
       "    .dataframe tbody tr th {\n",
       "        vertical-align: top;\n",
       "    }\n",
       "\n",
       "    .dataframe thead th {\n",
       "        text-align: right;\n",
       "    }\n",
       "</style>\n",
       "<table border=\"1\" class=\"dataframe\">\n",
       "  <thead>\n",
       "    <tr style=\"text-align: right;\">\n",
       "      <th></th>\n",
       "      <th>0</th>\n",
       "    </tr>\n",
       "  </thead>\n",
       "  <tbody>\n",
       "    <tr>\n",
       "      <th>0</th>\n",
       "      <td>NaN</td>\n",
       "    </tr>\n",
       "    <tr>\n",
       "      <th>1</th>\n",
       "      <td>0.593630</td>\n",
       "    </tr>\n",
       "    <tr>\n",
       "      <th>2</th>\n",
       "      <td>0.296815</td>\n",
       "    </tr>\n",
       "    <tr>\n",
       "      <th>3</th>\n",
       "      <td>0.146468</td>\n",
       "    </tr>\n",
       "    <tr>\n",
       "      <th>4</th>\n",
       "      <td>0.018094</td>\n",
       "    </tr>\n",
       "    <tr>\n",
       "      <th>5</th>\n",
       "      <td>0.017642</td>\n",
       "    </tr>\n",
       "    <tr>\n",
       "      <th>6</th>\n",
       "      <td>0.000622</td>\n",
       "    </tr>\n",
       "  </tbody>\n",
       "</table>\n",
       "</div>"
      ],
      "text/plain": [
       "          0\n",
       "0       NaN\n",
       "1  0.593630\n",
       "2  0.296815\n",
       "3  0.146468\n",
       "4  0.018094\n",
       "5  0.017642\n",
       "6  0.000622"
      ]
     },
     "execution_count": 46,
     "metadata": {},
     "output_type": "execute_result"
    }
   ],
   "source": [
    "# подгон\n",
    "kx= pd.DataFrame(\n",
    "  [0.059363, 0.059363, 0.059363, 0.011761, 0.011761, 0.011761,0.005725] # если где-то есть лажа то тут\n",
    ")\n",
    "x2 = pd.DataFrame([4,   3,   2,   2,    1,   0.4, 0.8]) * kx\n",
    "y2 = pd.DataFrame([2.8, 2.7, 2.5, 1.85, 1.2, 0.8, 0.6])"
   ]
  },
  {
   "cell_type": "code",
   "execution_count": 50,
   "metadata": {},
   "outputs": [],
   "source": [
    "# кремнистое железо, в больших клетках \n",
    "kx = 1\n",
    "x3 = pd.DataFrame([3,   2.3, 1.8, 1.0, 0.9, 0.6, 0.50, 0.3])\n",
    "y3 = pd.DataFrame([2.5, 3.0, 2.6, 1.8, 1.5, 1.0, 0.95, 0.3])"
   ]
  },
  {
   "cell_type": "code",
   "execution_count": 64,
   "metadata": {},
   "outputs": [
    {
     "data": {
      "image/png": "[encoded data removed]",
      "text/plain": [
       "<Figure size 640x480 with 1 Axes>"
      ]
     },
     "metadata": {},
     "output_type": "display_data"
    },
    {
     "name": "stdout",
     "output_type": "stream",
     "text": [
      "(     0\n",
      "0  NaN\n",
      "1  0.1\n",
      "2  1.0\n",
      "3 -0.0,      0\n",
      "0  3.0\n",
      "1  2.0\n",
      "2  1.6\n",
      "3  1.0)\n"
     ]
    }
   ],
   "source": [
    "# график пункт 1\n",
    "\n",
    "# график\n",
    "ox = x1\n",
    "oy = y1\n",
    "\n",
    "plt.scatter(\n",
    "  ox,\n",
    "  oy,\n",
    "  s=10,\n",
    "  label=\"Снятые точки\"\n",
    ")\n",
    "plt.plot(\n",
    "  ox,\n",
    "  oy,\n",
    "  'g--',\n",
    "  linewidth=0.7,\n",
    "  label=\"Снятые точки\"\n",
    ")\n",
    "plt.xlabel(\"H, A/m\")\n",
    "plt.ylabel(\"B, T\")\n",
    "plt.grid()\n",
    "# plt.legend(loc='best')\n",
    "# plt.savefig(\"p3.png\")\n",
    "plt.ticklabel_format(style='sci', axis='x', scilimits=(0,0))\n",
    "plt.show()\n",
    "print((oy.diff()/ox.diff(), ox))"
   ]
  },
  {
   "cell_type": "markdown",
   "metadata": {},
   "source": [
    "# II второй пункт"
   ]
  },
  {
   "cell_type": "code",
   "execution_count": 11,
   "metadata": {},
   "outputs": [
    {
     "name": "stdout",
     "output_type": "stream",
     "text": [
      "              0\n",
      "0.050  0.059363\n",
      "0.020  0.022712\n",
      "0.010  0.011761\n",
      "0.005  0.005725\n",
      "0.100  0.117606\n",
      "             0\n",
      "0.02  0.019445\n",
      "0.05  0.048295\n",
      "0.01  0.009192\n"
     ]
    }
   ],
   "source": [
    "kx = [0.05,  0.02,  0.01,  0.005, 0.1, ]\n",
    "i  = [0.954, 0.365, 0.189, 0.092, 1.890, ] # A\n",
    "\n",
    "#  Y: Ky=0.02, V = 0.0551, занимает весь экран\n",
    "ky = [0.02,   0.05,   0.01,  ]\n",
    "v  = [0.0550, 0.1366, 0.0260] # V\n",
    "\n",
    "true_kx = R0 * 1.414213 * pd.DataFrame(i) / 5\n",
    "true_kx.index=kx\n",
    "# print(true_kx.to_latex())\n",
    "true_ky = 1.414213 * pd.DataFrame(v) / 4\n",
    "true_ky.index=ky\n",
    "# print(true_ky.to_latex())\n",
    "print(true_kx, true_ky, sep='\\n')"
   ]
  },
  {
   "cell_type": "markdown",
   "metadata": {},
   "source": [
    "# III третий пункт"
   ]
  },
  {
   "cell_type": "code",
   "execution_count": null,
   "metadata": {},
   "outputs": [
    {
     "data": {
      "text/plain": [
       "0.055154307"
      ]
     },
     "execution_count": 10,
     "metadata": {},
     "output_type": "execute_result"
    }
   ],
   "source": [
    "6 * true_ky[0][0.01]"
   ]
  },
  {
   "cell_type": "code",
   "execution_count": null,
   "metadata": {},
   "outputs": [
    {
     "name": "stdout",
     "output_type": "stream",
     "text": [
      "0.46170085855132326\n"
     ]
    },
    {
     "data": {
      "text/plain": [
       "0.39999999999999997"
      ]
     },
     "execution_count": 11,
     "metadata": {},
     "output_type": "execute_result"
    }
   ],
   "source": [
    "# 2y = весь экран, Ky=1. переключаем:  2y=6/8 клеток, ky=0.010\n",
    "tau = 8 * 1 / (w *2*np.pi* 6 * true_ky[0][0.01])\n",
    "print(tau)\n",
    "Ri * Ci"
   ]
  }
 ],
 "metadata": {
  "kernelspec": {
   "display_name": "Python 3",
   "language": "python",
   "name": "python3"
  },
  "language_info": {
   "codemirror_mode": {
    "name": "ipython",
    "version": 3
   },
   "file_extension": ".py",
   "mimetype": "text/x-python",
   "name": "python",
   "nbconvert_exporter": "python",
   "pygments_lexer": "ipython3",
   "version": "3.8.10"
  },
  "orig_nbformat": 4
 },
 "nbformat": 4,
 "nbformat_minor": 2
}
