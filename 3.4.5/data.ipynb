{
 "cells": [
  {
   "cell_type": "code",
   "execution_count": 1,
   "metadata": {},
   "outputs": [],
   "source": [
    "# этот ноутбук относится к лабе 3.4.5\n",
    "import numpy as np\n",
    "import pandas as pd\n",
    "import matplotlib.pyplot as plt\n",
    "from pyperclip import copy as cp"
   ]
  },
  {
   "cell_type": "code",
   "execution_count": 2,
   "metadata": {},
   "outputs": [],
   "source": [
    "Ri = 20*10**3\n",
    "Ci = 20*10**-6\n",
    "R0 = 0.22\n",
    "w = 50"
   ]
  },
  {
   "cell_type": "code",
   "execution_count": 3,
   "metadata": {},
   "outputs": [
    {
     "ename": "KeyError",
     "evalue": "''",
     "output_type": "error",
     "traceback": [
      "\u001b[0;31m---------------------------------------------------------------------------\u001b[0m",
      "\u001b[0;31mKeyError\u001b[0m                                  Traceback (most recent call last)",
      "File \u001b[0;32m~/.local/lib/python3.8/site-packages/pandas/core/indexes/base.py:3802\u001b[0m, in \u001b[0;36mIndex.get_loc\u001b[0;34m(self, key, method, tolerance)\u001b[0m\n\u001b[1;32m   3801\u001b[0m \u001b[39mtry\u001b[39;00m:\n\u001b[0;32m-> 3802\u001b[0m     \u001b[39mreturn\u001b[39;00m \u001b[39mself\u001b[39;49m\u001b[39m.\u001b[39;49m_engine\u001b[39m.\u001b[39;49mget_loc(casted_key)\n\u001b[1;32m   3803\u001b[0m \u001b[39mexcept\u001b[39;00m \u001b[39mKeyError\u001b[39;00m \u001b[39mas\u001b[39;00m err:\n",
      "File \u001b[0;32m~/.local/lib/python3.8/site-packages/pandas/_libs/index.pyx:138\u001b[0m, in \u001b[0;36mpandas._libs.index.IndexEngine.get_loc\u001b[0;34m()\u001b[0m\n",
      "File \u001b[0;32m~/.local/lib/python3.8/site-packages/pandas/_libs/index.pyx:165\u001b[0m, in \u001b[0;36mpandas._libs.index.IndexEngine.get_loc\u001b[0;34m()\u001b[0m\n",
      "File \u001b[0;32mpandas/_libs/hashtable_class_helper.pxi:5745\u001b[0m, in \u001b[0;36mpandas._libs.hashtable.PyObjectHashTable.get_item\u001b[0;34m()\u001b[0m\n",
      "File \u001b[0;32mpandas/_libs/hashtable_class_helper.pxi:5753\u001b[0m, in \u001b[0;36mpandas._libs.hashtable.PyObjectHashTable.get_item\u001b[0;34m()\u001b[0m\n",
      "\u001b[0;31mKeyError\u001b[0m: ''",
      "\nThe above exception was the direct cause of the following exception:\n",
      "\u001b[0;31mKeyError\u001b[0m                                  Traceback (most recent call last)",
      "\u001b[1;32m/home/lll/lab/3.4.5/data.ipynb Cell 3\u001b[0m line \u001b[0;36m1\n\u001b[1;32m     <a href='vscode-notebook-cell:/home/lll/lab/3.4.5/data.ipynb#W2sZmlsZQ%3D%3D?line=16'>17</a>\u001b[0m data[\u001b[39m'\u001b[39m\u001b[39mdelta_y\u001b[39m\u001b[39m'\u001b[39m] \u001b[39m=\u001b[39m [\u001b[39m1.8\u001b[39m, \u001b[39m1.2\u001b[39m, \u001b[39m1.6\u001b[39m]\n\u001b[1;32m     <a href='vscode-notebook-cell:/home/lll/lab/3.4.5/data.ipynb#W2sZmlsZQ%3D%3D?line=17'>18</a>\u001b[0m data[\u001b[39m'\u001b[39m\u001b[39mlim_y\u001b[39m\u001b[39m'\u001b[39m]   \u001b[39m=\u001b[39m [\u001b[39m1.8\u001b[39m, \u001b[39m3\u001b[39m, \u001b[39m4\u001b[39m]\n\u001b[0;32m---> <a href='vscode-notebook-cell:/home/lll/lab/3.4.5/data.ipynb#W2sZmlsZQ%3D%3D?line=18'>19</a>\u001b[0m data[\u001b[39m'\u001b[39;49m\u001b[39m'\u001b[39;49m]\n\u001b[1;32m     <a href='vscode-notebook-cell:/home/lll/lab/3.4.5/data.ipynb#W2sZmlsZQ%3D%3D?line=19'>20</a>\u001b[0m \u001b[39m# data = data.T\u001b[39;00m\n\u001b[1;32m     <a href='vscode-notebook-cell:/home/lll/lab/3.4.5/data.ipynb#W2sZmlsZQ%3D%3D?line=20'>21</a>\u001b[0m \u001b[39m# data.rename(columns={0: 'p', 1:'f', 2:'k'}, inplace=True)\u001b[39;00m\n\u001b[1;32m     <a href='vscode-notebook-cell:/home/lll/lab/3.4.5/data.ipynb#W2sZmlsZQ%3D%3D?line=21'>22</a>\u001b[0m data\n",
      "File \u001b[0;32m~/.local/lib/python3.8/site-packages/pandas/core/frame.py:3807\u001b[0m, in \u001b[0;36mDataFrame.__getitem__\u001b[0;34m(self, key)\u001b[0m\n\u001b[1;32m   3805\u001b[0m \u001b[39mif\u001b[39;00m \u001b[39mself\u001b[39m\u001b[39m.\u001b[39mcolumns\u001b[39m.\u001b[39mnlevels \u001b[39m>\u001b[39m \u001b[39m1\u001b[39m:\n\u001b[1;32m   3806\u001b[0m     \u001b[39mreturn\u001b[39;00m \u001b[39mself\u001b[39m\u001b[39m.\u001b[39m_getitem_multilevel(key)\n\u001b[0;32m-> 3807\u001b[0m indexer \u001b[39m=\u001b[39m \u001b[39mself\u001b[39;49m\u001b[39m.\u001b[39;49mcolumns\u001b[39m.\u001b[39;49mget_loc(key)\n\u001b[1;32m   3808\u001b[0m \u001b[39mif\u001b[39;00m is_integer(indexer):\n\u001b[1;32m   3809\u001b[0m     indexer \u001b[39m=\u001b[39m [indexer]\n",
      "File \u001b[0;32m~/.local/lib/python3.8/site-packages/pandas/core/indexes/base.py:3804\u001b[0m, in \u001b[0;36mIndex.get_loc\u001b[0;34m(self, key, method, tolerance)\u001b[0m\n\u001b[1;32m   3802\u001b[0m     \u001b[39mreturn\u001b[39;00m \u001b[39mself\u001b[39m\u001b[39m.\u001b[39m_engine\u001b[39m.\u001b[39mget_loc(casted_key)\n\u001b[1;32m   3803\u001b[0m \u001b[39mexcept\u001b[39;00m \u001b[39mKeyError\u001b[39;00m \u001b[39mas\u001b[39;00m err:\n\u001b[0;32m-> 3804\u001b[0m     \u001b[39mraise\u001b[39;00m \u001b[39mKeyError\u001b[39;00m(key) \u001b[39mfrom\u001b[39;00m \u001b[39merr\u001b[39;00m\n\u001b[1;32m   3805\u001b[0m \u001b[39mexcept\u001b[39;00m \u001b[39mTypeError\u001b[39;00m:\n\u001b[1;32m   3806\u001b[0m     \u001b[39m# If we have a listlike key, _check_indexing_error will raise\u001b[39;00m\n\u001b[1;32m   3807\u001b[0m     \u001b[39m#  InvalidIndexError. Otherwise we fall through and re-raise\u001b[39;00m\n\u001b[1;32m   3808\u001b[0m     \u001b[39m#  the TypeError.\u001b[39;00m\n\u001b[1;32m   3809\u001b[0m     \u001b[39mself\u001b[39m\u001b[39m.\u001b[39m_check_indexing_error(key)\n",
      "\u001b[0;31mKeyError\u001b[0m: ''"
     ]
    }
   ],
   "source": [
    "data = pd.DataFrame()\n",
    "data['N0'] = [15, 45, 20]\n",
    "data['Nu'] = [300, 400, 200]\n",
    "data['S']  = [0.66, 3, 2]\n",
    "data['S']  = data['S'] * 10**-4\n",
    "data['2pr']= [14.1, 25, 11]\n",
    "data['2pr']= data['2pr'] * 10**-2\n",
    "data['i']  = [0.229, 0.9377, 1.2978]\n",
    "# коэффиценты преобразования:\n",
    "data['Ky'] = [0.048295, 0.048295, 0.019445]\n",
    "data['Kx'] = [0.022712, 0.005725, 0.117606]\n",
    "data['H'] = data['Kx'] * data['N0'] / data['2pr'] / R0\n",
    "data['B'] = data['Ky'] * Ri * Ci / (data['S'] * data['Nu'])\n",
    "data.index = [\"Fe-Ni\", \"Fe\", \"Fe-Si\"]\n",
    "\n",
    "data['delta_x'] = [2.3, 1.7, 0.6]\n",
    "data['delta_y'] = [1.8, 1.2, 1.6]\n",
    "data['lim_y']   = [1.8, 3, 4]\n",
    "data['']\n",
    "# data = data.T\n",
    "# data.rename(columns={0: 'p', 1:'f', 2:'k'}, inplace=True)\n",
    "data"
   ]
  },
  {
   "cell_type": "code",
   "execution_count": null,
   "metadata": {},
   "outputs": [],
   "source": [
    "# пермаллой, в больших клетках K_x = 20, K_y=50\n",
    "x1 = pd.DataFrame(\n",
    "  [3,  2,   1.6,   1, ]\n",
    ")\n",
    "y1 = pd.DataFrame(\n",
    "  [1.7, 1.6, 1.2, 1.2]\n",
    ")"
   ]
  },
  {
   "cell_type": "code",
   "execution_count": null,
   "metadata": {},
   "outputs": [],
   "source": [
    "# феррит, в больших клетках\n",
    "kx= pd.DataFrame(\n",
    "  [0.05, 0.05, 0.05, 0.01, 0.01, 0.01, 0.01,0.005] # если где-то есть лажа то тут\n",
    ")\n",
    "x2 = pd.DataFrame([4,  3,   2,    1,   2,    1,   0.4, 0.8]) * kx\n",
    "y2 = pd.DataFrame([2.8, 2.7, 2.5, 2.2, 1.85, 1.2, 0.8, 0.6])"
   ]
  },
  {
   "cell_type": "code",
   "execution_count": null,
   "metadata": {},
   "outputs": [],
   "source": [
    "# подгон\n",
    "kx= pd.DataFrame(\n",
    "  [0.05, 0.05, 0.05, 0.01, 0.01, 0.01,0.005] # если где-то есть лажа то тут\n",
    ")\n",
    "kx= pd.DataFrame(\n",
    "  [0.059363, 0.059363, 0.059363, 0.011761, 0.011761 0.011761,0.005725] # если где-то есть лажа то тут\n",
    ")\n",
    "x2 = pd.DataFrame([4,   3,   2,   2,    1,   0.4, 0.8]) * true_kx\n",
    "y2 = pd.DataFrame([2.8, 2.7, 2.5, 1.85, 1.2, 0.8, 0.6])"
   ]
  },
  {
   "cell_type": "code",
   "execution_count": null,
   "metadata": {},
   "outputs": [],
   "source": [
    "# кремнистое железо, в больших клетках \n",
    "kx = 1\n",
    "x3 = [3,   2.3, 1.8, 1.0, 0.9, 0.6, 0.50, 0.3]\n",
    "y3 = [2.5, 3.0, 2.6, 1.8, 1.5, 1.0, 0.95, 0.3]"
   ]
  },
  {
   "cell_type": "code",
   "execution_count": null,
   "metadata": {},
   "outputs": [
    {
     "data": {
      "image/png": "[encoded data removed]",
      "text/plain": [
       "<Figure size 640x480 with 1 Axes>"
      ]
     },
     "metadata": {},
     "output_type": "display_data"
    }
   ],
   "source": [
    "# график пункт 1\n",
    "\n",
    "# график\n",
    "ox = x2[0]\n",
    "oy = y2[0]\n",
    "\n",
    "plt.scatter(\n",
    "  ox,\n",
    "  oy,\n",
    "  s=10,\n",
    "  label=\"Снятые точки\"\n",
    ")\n",
    "plt.plot(\n",
    "  ox,\n",
    "  oy,\n",
    "  'g--',\n",
    "  linewidth=0.7,\n",
    "  label=\"Снятые точки\"\n",
    ")\n",
    "# z1, res= np.polyfit(ox, oy, 1, full=False, cov=True)\n",
    "# p1 = np.poly1d(z1)\n",
    "# plt.plot(ox, p1(ox), linewidth=0.4, color='green', linestyle='-', label='В тупую')\n",
    "# print(str(p1), \"eror:\", res[0][0] ** 0.5/((z1[0])**2))\n",
    "plt.xlabel(\"V, V\")\n",
    "plt.ylabel(\"I, мА\")\n",
    "plt.grid()\n",
    "plt.legend(loc='best')\n",
    "plt.savefig(\"p1.png\")\n",
    "plt.ticklabel_format(style='sci', axis='x', scilimits=(0,0))\n",
    "plt.show()"
   ]
  },
  {
   "cell_type": "markdown",
   "metadata": {},
   "source": [
    "# II второй пункт"
   ]
  },
  {
   "cell_type": "code",
   "execution_count": null,
   "metadata": {},
   "outputs": [
    {
     "name": "stdout",
     "output_type": "stream",
     "text": [
      "              0\n",
      "0.050  0.059363\n",
      "0.020  0.022712\n",
      "0.010  0.011761\n",
      "0.005  0.005725\n",
      "0.100  0.117606\n",
      "             0\n",
      "0.02  0.019445\n",
      "0.05  0.048295\n",
      "0.01  0.009192\n"
     ]
    }
   ],
   "source": [
    "kx = [0.05,  0.02,  0.01,  0.005, 0.1, ]\n",
    "i  = [0.954, 0.365, 0.189, 0.092, 1.890, ] # A\n",
    "\n",
    "#  Y: Ky=0.02, V = 0.0551, занимает весь экран\n",
    "ky = [0.02,   0.05,   0.01,  ]\n",
    "v  = [0.0550, 0.1366, 0.0260] # V\n",
    "\n",
    "true_kx = R0 * 1.414213 * pd.DataFrame(i) / 5\n",
    "true_kx.index=kx\n",
    "# print(true_kx.to_latex())\n",
    "true_ky = 1.414213 * pd.DataFrame(v) / 4\n",
    "true_ky.index=ky\n",
    "# print(true_ky.to_latex())\n",
    "print(true_kx, true_ky, sep='\\n')"
   ]
  },
  {
   "cell_type": "markdown",
   "metadata": {},
   "source": [
    "# III третий пункт"
   ]
  },
  {
   "cell_type": "code",
   "execution_count": null,
   "metadata": {},
   "outputs": [
    {
     "data": {
      "text/plain": [
       "0.055154307"
      ]
     },
     "execution_count": 10,
     "metadata": {},
     "output_type": "execute_result"
    }
   ],
   "source": [
    "6 * true_ky[0][0.01]"
   ]
  },
  {
   "cell_type": "code",
   "execution_count": null,
   "metadata": {},
   "outputs": [
    {
     "name": "stdout",
     "output_type": "stream",
     "text": [
      "0.46170085855132326\n"
     ]
    },
    {
     "data": {
      "text/plain": [
       "0.39999999999999997"
      ]
     },
     "execution_count": 11,
     "metadata": {},
     "output_type": "execute_result"
    }
   ],
   "source": [
    "# 2y = весь экран, Ky=1. переключаем:  2y=6/8 клеток, ky=0.010\n",
    "tau = 8 * 1 / (w *2*np.pi* 6 * true_ky[0][0.01])\n",
    "print(tau)\n",
    "Ri * Ci"
   ]
  }
 ],
 "metadata": {
  "kernelspec": {
   "display_name": "Python 3",
   "language": "python",
   "name": "python3"
  },
  "language_info": {
   "codemirror_mode": {
    "name": "ipython",
    "version": 3
   },
   "file_extension": ".py",
   "mimetype": "text/x-python",
   "name": "python",
   "nbconvert_exporter": "python",
   "pygments_lexer": "ipython3",
   "version": "3.8.10"
  },
  "orig_nbformat": 4
 },
 "nbformat": 4,
 "nbformat_minor": 2
}
