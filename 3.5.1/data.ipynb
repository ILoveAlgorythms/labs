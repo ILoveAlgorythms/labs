{
 "cells": [
  {
   "cell_type": "code",
   "execution_count": 1,
   "metadata": {},
   "outputs": [],
   "source": [
    "# этот ноутбук относится к лабе 3.5.1\n",
    "import numpy as np\n",
    "import pandas as pd\n",
    "import matplotlib.pyplot as plt\n"
   ]
  },
  {
   "cell_type": "code",
   "execution_count": 7,
   "metadata": {},
   "outputs": [],
   "source": [
    "# 1 пункт измерения\n",
    "a = pd.DataFrame() # увеличение тока\n",
    "\n",
    "a['i'] = ( # mA\n",
    "  1.56,  2.00,  2.25, 2.501, 3.011, 3.292, 3.539, 3.740, 3.879, 4.093\n",
    ")\n",
    "\n",
    "a['v'] = ( # V\n",
    "  30.70, 27.65, 26.42, 24.07, 21.53, 21.09, 20.09, 19.04, 18.24, 16.93\n",
    ")\n",
    "\n",
    "b = pd.DataFrame() # уменьшение\n",
    "\n",
    "b['i'] = ( # mA\n",
    "  4.123, 3.818, 3.463, 3.107, 2.797, 2.446, 2.034, 1.759, 1.497, 1.249\n",
    ")\n",
    "\n",
    "b['v'] = ( # V\n",
    "  16.53, 18.30, 20.03, 20.83, 22.15, 24.18, 26.99, 28.75, 30.91, 33.00\n",
    ")\n",
    "\n"
   ]
  },
  {
   "cell_type": "code",
   "execution_count": 3,
   "metadata": {},
   "outputs": [],
   "source": [
    "# 2 пункт измерения, ток рараяда: 5мА\n",
    "a = pd.DataFrame() # уменьшение напряжения, положительный дипапазон\n",
    "a['i'] = ( # \\mu A\n",
    "  118.25, 115.97, 113.15, 108.08, 099.55, 087.60, 077.32, 065.12, 053.32, 036.65, 22.16\n",
    ")\n",
    "\n",
    "a['v'] = ( # V\n",
    "  25.030, 21.957, 18.983, 16.039, 13.023, 10.092, 08.078, 05.998, 04.117, 02.010, 00.48\n",
    ")\n",
    "\n",
    "b = pd.DataFrame() # уменьшение напряжения, отрицательный дипапазон\n",
    "\n",
    "b['i'] = ( # \\muA\n",
    "  018.14, 030.90, 050.47, 061.39, 075.67, 088.06, 100.88, 111.79, 118.90, 122.87, 125.49\n",
    ")\n",
    "\n",
    "b['v'] = ( # V\n",
    "  00.522, 2.0914, 4.440,  06.023, 08.292, 10.477, 13.197, 16.266, 19.316, 22.154, 25.040\n",
    ")\n",
    "\n"
   ]
  },
  {
   "cell_type": "code",
   "execution_count": 4,
   "metadata": {},
   "outputs": [],
   "source": [
    "# 2 пункт измерения, ток рараяда: 3мА\n",
    "aa = pd.DataFrame() # уменьшение напряжения, положительный дипапазон\n",
    "aa['i'] = ( # \\mu A\n",
    "  062.94, 061.26, 059.38, 056.88, 053.06, 047.25, 040.73, 034.24, 025.58, 016.09, 007.71\n",
    ")\n",
    "\n",
    "aa['v'] = ( # V\n",
    "  25.040, 22.109, 19.064, 16.191, 13.334, 10.449, 08.067, 06.172, 04.051, 02.101, 00.526\n",
    ")\n",
    "\n",
    "bb = pd.DataFrame() # уменьшение напряжения, отрицательный дипапазон\n",
    "\n",
    "bb['i'] = ( # \\muA\n",
    "  006.02, 014.00, 024.87, 032.92, 041.57, 047.07, 053.68, 058.15, 060.56, 062.87, 064.78\n",
    ")\n",
    "\n",
    "bb['v'] = ( # V\n",
    "  00.526, 02.023, 04.149, 06.068, 08.444, 10.303, 13.187, 15.995, 18.186, 21.236, 24.433\n",
    ")"
   ]
  },
  {
   "cell_type": "code",
   "execution_count": 5,
   "metadata": {},
   "outputs": [],
   "source": [
    "# 2 пункт измерения, ток рараяда: 1.5мА\n",
    "aaa = pd.DataFrame() # уменьшение напряжения, положительный дипапазон\n",
    "aaa['i'] = ( # \\mu A\n",
    "  028.29, 027.37, 026.45, 025.48, 024.13, 022.01, 019.70, 016.51, 012.46, 006.76, 002.22\n",
    ")\n",
    "\n",
    "aaa['v'] = ( # V\n",
    "  25.041, 22.078, 19.104, 16.156, 13.018, 10.100, 08.122, 06.144, 04.209, 02.037, 0.489\n",
    ")\n",
    "\n",
    "bbb = pd.DataFrame() # уменьшение напряжения, отрицательный дипапазон\n",
    "\n",
    "bbb['i'] = ( # \\muA\n",
    "  001.44, 006.72, 011.63, 016.22, 020.05, 022.54, 025.02, 026.41, 027.43, 028.45, 029.38\n",
    ")\n",
    "\n",
    "bbb['v'] = ( # V\n",
    "  00.486, 02.265, 04.061, 06.059, 08.209, 10.152, 13.243, 16.221, 19.148, 22.242, 25.041\n",
    ")"
   ]
  },
  {
   "cell_type": "code",
   "execution_count": 6,
   "metadata": {},
   "outputs": [
    {
     "data": {
      "image/png": "[encoded data removed]",
      "text/plain": [
       "<Figure size 640x480 with 1 Axes>"
      ]
     },
     "metadata": {},
     "output_type": "display_data"
    }
   ],
   "source": [
    "# график\n",
    "oy = tuple(a['i']) + tuple(-1 * b['i'])\n",
    "ox = tuple(a['v']) + tuple(-1 * b['v'])\n",
    "\n",
    "oyy = tuple(aa['i']) + tuple(-1 * bb['i'])\n",
    "oxx = tuple(aa['v']) + tuple(-1 * bb['v'])\n",
    "\n",
    "oyyy = tuple(aaa['i']) + tuple(-1 * bbb['i'])\n",
    "oxxx = tuple(aaa['v']) + tuple(-1 * bbb['v'])\n",
    "\n",
    "plt.scatter(\n",
    "  ox,\n",
    "  oy,\n",
    "  s=3,\n",
    "  label=\"5ма\"\n",
    ")\n",
    "\n",
    "plt.scatter(\n",
    "  oxx,\n",
    "  oyy,\n",
    "  s=3,\n",
    "  label=\"3ма\", \n",
    "  color='red'\n",
    ")\n",
    "\n",
    "\n",
    "plt.scatter(\n",
    "  oxxx,\n",
    "  oyyy,\n",
    "  s=3,\n",
    "  label=\"1.5 ма\"\n",
    ")\n",
    "\n",
    "\n",
    "# z1, res= np.polyfit(ox, oy, 1, full=False, cov=True)\n",
    "# p1 = np.poly1d(z1)\n",
    "# plt.plot(ox, p1(ox), linewidth=0.7, color='red', linestyle='-')\n",
    "# print(str(p1), \"eror:\", res[0][0] ** 0.5/((z1[0])**2))\n",
    "# plt.savefig(\"graph steel.png\")\n",
    "plt.xlabel(\"V, V\")\n",
    "plt.ylabel(\"I, мА\")\n",
    "plt.grid()\n",
    "plt.legend(loc='best')\n",
    "plt.show()"
   ]
  }
 ],
 "metadata": {
  "kernelspec": {
   "display_name": "Python 3",
   "language": "python",
   "name": "python3"
  },
  "language_info": {
   "codemirror_mode": {
    "name": "ipython",
    "version": 3
   },
   "file_extension": ".py",
   "mimetype": "text/x-python",
   "name": "python",
   "nbconvert_exporter": "python",
   "pygments_lexer": "ipython3",
   "version": "3.8.10"
  },
  "orig_nbformat": 4
 },
 "nbformat": 4,
 "nbformat_minor": 2
}
