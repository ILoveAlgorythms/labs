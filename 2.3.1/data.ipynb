{
 "cells": [
  {
   "cell_type": "code",
   "execution_count": 2,
   "metadata": {},
   "outputs": [],
   "source": [
    "# этот ноутбук относится к лабе 2.3.1\n",
    "\n",
    "import numpy as np\n",
    "import pandas as pd\n",
    "import matplotlib.pyplot as plt\n",
    "\n",
    "def myrange(x, steps=10, around_=-1):\n",
    "  return np.around(np.arange(x.min(), x.max(), (x.max() - x.min())/steps, dtype=np.float64), around_)"
   ]
  },
  {
   "attachments": {},
   "cell_type": "markdown",
   "metadata": {},
   "source": [
    "9:28 начали откчаку\\\n",
    "9:54 поставили сильфон\\\n",
    "9:58 открыли кран. показания вакуумметра: 2.38 * 10 ** 2 mbar\\\n",
    "10:03 2.4 открыл мк2. показания: 2.12 * 10 **2 mbar\\\n",
    "10:06 открыли мк1. показания: 1.58 * 10 ** 2 mbar\n",
    "10:07 выключаем прн\\\n",
    "10:17 повторяе\\\n",
    "10:30 начинаем ставить сильфон\\\n",
    "10:35 закончили, открываем мк3 вакуумметр: 2.50 * 10 ** 2 mbar\\\n",
    "10:38 открыли мк2, 2.13 * 10 ** 2 mbar\\\n",
    "10:38 открыли мк1 1.57 * 10 ** 2 mbar\\\n",
    " 3\n",
    "10:45 включили насос\\\n",
    "10:58 включили turbo pump\\\n",
    "11:01 дошел до максимума давление 1.28 *10 ** \\\n",
    "11:06 degas\\\n",
    "11:11 2 раза открыли шибер\\\n",
    "11:13 повтооряем говно которое не получилось"
   ]
  },
  {
   "cell_type": "code",
   "execution_count": 7,
   "metadata": {},
   "outputs": [
    {
     "data": {
      "text/plain": [
       "numpy.float64"
      ]
     },
     "execution_count": 7,
     "metadata": {},
     "output_type": "execute_result"
    }
   ],
   "source": [
    "# a = pd.read_csv('table.CSV', delimiter=',', index_col='Time')\n",
    "a = pd.read_csv('table.CSV', delimiter=',')\n",
    "a['Time'] = pd.to_datetime(a['Time'])\n",
    "a['Time'].values.astype(float)\n",
    "type(a['Time'].values.astype(float)[0])"
   ]
  },
  {
   "cell_type": "code",
   "execution_count": 4,
   "metadata": {},
   "outputs": [
    {
     "data": {
      "image/png": "[encoded data removed]",
      "text/plain": [
       "<Figure size 640x480 with 1 Axes>"
      ]
     },
     "metadata": {},
     "output_type": "display_data"
    },
    {
     "ename": "NameError",
     "evalue": "name 'p1' is not defined",
     "output_type": "error",
     "traceback": [
      "\u001b[0;31m---------------------------------------------------------------------------\u001b[0m",
      "\u001b[0;31mNameError\u001b[0m                                 Traceback (most recent call last)",
      "Cell \u001b[0;32mIn[4], line 23\u001b[0m\n\u001b[1;32m     19\u001b[0m \u001b[39m# plt.xticks(myrange(ox))\u001b[39;00m\n\u001b[1;32m     20\u001b[0m \u001b[39m# plt.yticks(myrange(oy, around_=0))\u001b[39;00m\n\u001b[1;32m     21\u001b[0m plt\u001b[39m.\u001b[39mshow()\n\u001b[0;32m---> 23\u001b[0m \u001b[39mprint\u001b[39m(\u001b[39m'\u001b[39m\u001b[39mD(1/P):\u001b[39m\u001b[39m'\u001b[39m \u001b[39m+\u001b[39m \u001b[39mstr\u001b[39m(p1),\u001b[39m'\u001b[39m\u001b[39m\\n\u001b[39;00m\u001b[39m'\u001b[39m, \u001b[39m\"\u001b[39m\u001b[39m\\\u001b[39m\u001b[39msigma\u001b[39m\u001b[39m\"\u001b[39m,(res[\u001b[39m0\u001b[39m][\u001b[39m0\u001b[39m] \u001b[39m*\u001b[39m\u001b[39m*\u001b[39m \u001b[39m0.5\u001b[39m) \u001b[39m*\u001b[39m \u001b[39m10\u001b[39m\u001b[39m*\u001b[39m\u001b[39m*\u001b[39m\u001b[39m4\u001b[39m)\n\u001b[1;32m     24\u001b[0m \u001b[39mprint\u001b[39m(p1)\n\u001b[1;32m     25\u001b[0m \u001b[39mprint\u001b[39m((p1[\u001b[39m1\u001b[39m] \u001b[39m/\u001b[39m\u001b[39m732\u001b[39m \u001b[39m+\u001b[39m p1[\u001b[39m0\u001b[39m]) \u001b[39m*\u001b[39m \u001b[39m10\u001b[39m\u001b[39m*\u001b[39m\u001b[39m*\u001b[39m\u001b[39m4\u001b[39m)\n",
      "\u001b[0;31mNameError\u001b[0m: name 'p1' is not defined"
     ]
    }
   ],
   "source": [
    "ox = a['Time'].values.astype(float)\n",
    "oy = a['Value'].values\n",
    "\n",
    "for i in a.columns:\n",
    "    plt.scatter(\n",
    "        ox,\n",
    "        oy,\n",
    "        s=1,\n",
    "        label=\"D(1/P)\"\n",
    "        # elinewidth=2\n",
    "    )\n",
    "\n",
    "# z1, res= np.polyfit(ox, oy, 1, full=False, cov=True)\n",
    "# p1 = np.poly1d(z1)\n",
    "# plt.plot(ox, p1(ox), linewidth=0.7, color='red', linestyle='--')\n",
    "\n",
    "\n",
    "plt.legend(loc='best')\n",
    "# plt.xticks(myrange(ox))\n",
    "# plt.yticks(myrange(oy, around_=0))\n",
    "plt.show()\n",
    "\n",
    "print('D(1/P):' + str(p1),'\\n', \"\\sigma\",(res[0][0] ** 0.5) * 10**4)\n",
    "print(p1)\n",
    "print((p1[1] /732 + p1[0]) * 10**4)\n",
    "d_atm=p1(1/732) * 10**4\n",
    "print(d_atm)"
   ]
  }
 ],
 "metadata": {
  "kernelspec": {
   "display_name": "Python 3",
   "language": "python",
   "name": "python3"
  },
  "language_info": {
   "codemirror_mode": {
    "name": "ipython",
    "version": 3
   },
   "file_extension": ".py",
   "mimetype": "text/x-python",
   "name": "python",
   "nbconvert_exporter": "python",
   "pygments_lexer": "ipython3",
   "version": "3.8.10"
  },
  "orig_nbformat": 4
 },
 "nbformat": 4,
 "nbformat_minor": 2
}
