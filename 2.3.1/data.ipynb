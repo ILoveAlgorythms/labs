{
 "cells": [
  {
   "cell_type": "code",
   "execution_count": 1,
   "metadata": {},
   "outputs": [],
   "source": [
    "import numpy as mp\n",
    "import pandas as pd"
   ]
  },
  {
   "cell_type": "code",
   "execution_count": null,
   "metadata": {},
   "outputs": [],
   "source": [
    "9:28 начали откчаку\n",
    "9:54 поставили сильфон\n",
    "9:58 открыли кран. показания вакуумметра: 2.38 * 10 ** 2 mbar\n",
    "10:03 2.4 открыл мк2. показания: 2.12 * 10 **2 mbar\n",
    "10:06 открыли мк1. показания: 1.58 * 10 ** 2 mbar\n",
    "10:07 выключаем прн\n",
    "\n",
    "10:17 повторяе\n",
    "10:30 начинаем ставить сильфон\n",
    "10:35 закончили, открываем мк3 вакуумметр: 2.50 * 10 ** 2 mbar\n",
    "10:38 открыли мк2, 2.13 * 10 ** 2 mbar\n",
    "10:38 открыли мк1 1.57 * 10 ** 2 mbar\n",
    " \n",
    " 3\n",
    "10:45 включили насос\n",
    "10:58 включили turbo pump\n",
    "11:01 дошел до максимума давление 1.28 *10 ** \n",
    "11:06 degas\n",
    "11:11 2 раза открыли шибер\n",
    "\n",
    "11:13 повтооряем говно которое не получилось"
   ]
  }
 ],
 "metadata": {
  "kernelspec": {
   "display_name": "Python 3",
   "language": "python",
   "name": "python3"
  },
  "language_info": {
   "codemirror_mode": {
    "name": "ipython",
    "version": 3
   },
   "file_extension": ".py",
   "mimetype": "text/x-python",
   "name": "python",
   "nbconvert_exporter": "python",
   "pygments_lexer": "ipython3",
   "version": "3.8.10"
  },
  "orig_nbformat": 4
 },
 "nbformat": 4,
 "nbformat_minor": 2
}

