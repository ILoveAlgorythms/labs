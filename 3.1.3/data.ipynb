{
 "cells": [
  {
   "cell_type": "code",
   "execution_count": 1,
   "metadata": {},
   "outputs": [],
   "source": [
    "# этот ноутбук относится к лабе 3.1.3\n",
    "import numpy as np\n",
    "import pandas as pd\n",
    "import matplotlib.pyplot as plt\n",
    "from pyperclip import copy\n",
    "def latex(d: pd.DataFrame, print_output=False) -> None:\n",
    "  (print if print_output else copy)(d.to_latex(index=False))"
   ]
  },
  {
   "cell_type": "markdown",
   "metadata": {},
   "source": [
    "### Константы\n",
    "расстояние, на котором перестают притягиваться\n",
    "r = 1.785 # мм +- 0.003\n",
    "\n",
    "широта долгопрудного: 56 сш\n",
    "\n",
    "период колебания кольца: \n",
    "95.56 / 10с\n",
    "\n",
    "вес оторвавшийся в методе Б:\n",
    "257.810г\n",
    "\n",
    "масса 30 шариков:\n",
    "24.923г"
   ]
  },
  {
   "cell_type": "code",
   "execution_count": 2,
   "metadata": {},
   "outputs": [],
   "source": [
    "# диаметры  шариков:\n",
    "\n",
    "dd = np.array([\n",
    "  0.6, 0.59, 0.6, 0.59, 0.58, 0.59, 0.59, 0.6, 0.60, 0.6\n",
    "])\n",
    "d = np.average(dd)\n",
    "R = d/2"
   ]
  },
  {
   "cell_type": "code",
   "execution_count": 3,
   "metadata": {},
   "outputs": [
    {
     "data": {
      "text/plain": [
       "-0.13370845869673076"
      ]
     },
     "execution_count": 3,
     "metadata": {},
     "output_type": "execute_result"
    }
   ],
   "source": [
    "m = 24.923 / 30\n",
    "r = 1.785\n",
    "g = 981 # см/с^2\n",
    "mk_a = np.sqrt(m*g*r**4/6)\n",
    "m_max = 257.810\n",
    "F_b = m_max * g\n",
    "F_0 = F_b / 1.08\n",
    "mk_b = (F_0 * d**4 / 6)**0.5\n",
    "# print(mk_b, mk_a, F_b)\n",
    "delta_mk_b = mk_b - ((258.8 * g / 1.08) * d**4 / 6)**0.5\n",
    "delta_mk_b"
   ]
  },
  {
   "cell_type": "code",
   "execution_count": 4,
   "metadata": {},
   "outputs": [
    {
     "name": "stderr",
     "output_type": "stream",
     "text": [
      "/tmp/ipykernel_1523165/1231796561.py:7: FutureWarning: In future versions `DataFrame.to_latex` is expected to utilise the base implementation of `Styler.to_latex` for formatting and rendering. The arguments signature may therefore change. It is recommended instead to use `DataFrame.style.to_latex` which also contains additional functionality.\n",
      "  (print if print_output else copy)(d.to_latex(index=False))\n"
     ]
    }
   ],
   "source": [
    "# Задание 2. крутильный момент стрелки\n",
    "a2 = pd.DataFrame()\n",
    "\n",
    "a2['n'] = np.arange(3, 11)\n",
    "a2['t'] = ( # в с\n",
    "  15.13 / 15, 18.47 / 12, 28.39 / 15, 34.75 / 15, 36.45 / 14, 29.52 / 10, 37.39 / 11, 56.00 / 15\n",
    ")\n",
    "latex(a2)"
   ]
  },
  {
   "cell_type": "code",
   "execution_count": 13,
   "metadata": {},
   "outputs": [
    {
     "name": "stdout",
     "output_type": "stream",
     "text": [
      " \n",
      "0.379 x - 0.03295 \n",
      "eror: 0.00942655105950751\n"
     ]
    },
    {
     "data": {
      "image/png": "[encoded data removed]",
      "text/plain": [
       "<Figure size 640x480 with 1 Axes>"
      ]
     },
     "metadata": {},
     "output_type": "display_data"
    }
   ],
   "source": [
    "# график пункт 1\n",
    "\n",
    "# график\n",
    "ox = a2['n']\n",
    "oy = a2['t']\n",
    "\n",
    "plt.scatter(\n",
    "  ox,\n",
    "  oy,\n",
    "  s=10,\n",
    "  label=\"Зависимость T(n)\"\n",
    ")\n",
    "\n",
    "\n",
    "z1, res= np.polyfit(ox, oy, 1, full=False, cov=True)\n",
    "p1 = np.poly1d(z1)\n",
    "plt.plot(ox, p1(ox), linewidth=0.4, color='green', linestyle='-', label=f'σ={round(100*res[0][0] ** 0.5, 2)}%')\n",
    "print(str(p1), \"\\neror:\", res[0][0] ** 0.5)\n",
    "plt.xlabel(\"T, с\")\n",
    "plt.ylabel(\"n\")\n",
    "plt.grid()\n",
    "plt.legend(loc='best')\n",
    "# plt.savefig(\"T(n).png\")\n",
    "plt.show()\n",
    "k = p1[1]"
   ]
  },
  {
   "cell_type": "code",
   "execution_count": 6,
   "metadata": {},
   "outputs": [
    {
     "name": "stdout",
     "output_type": "stream",
     "text": [
      "38.524964272675184 1.9150668255862806\n"
     ]
    }
   ],
   "source": [
    "k = 0.379\n",
    "delta_k = 0.00942\n",
    "b_pr = m * (3*mk_b) ** -1 * (k/(2*np.pi * 2 * R))**-2\n",
    "delta_b_pr = b_pr * (delta_k / k) * 2\n",
    "print(100*b_pr, 100*delta_b_pr)"
   ]
  },
  {
   "cell_type": "code",
   "execution_count": 7,
   "metadata": {},
   "outputs": [
    {
     "data": {
      "text/html": [
       "<div>\n",
       "<style scoped>\n",
       "    .dataframe tbody tr th:only-of-type {\n",
       "        vertical-align: middle;\n",
       "    }\n",
       "\n",
       "    .dataframe tbody tr th {\n",
       "        vertical-align: top;\n",
       "    }\n",
       "\n",
       "    .dataframe thead th {\n",
       "        text-align: right;\n",
       "    }\n",
       "</style>\n",
       "<table border=\"1\" class=\"dataframe\">\n",
       "  <thead>\n",
       "    <tr style=\"text-align: right;\">\n",
       "      <th></th>\n",
       "      <th>n</th>\n",
       "      <th>m</th>\n",
       "      <th>l</th>\n",
       "      <th>M</th>\n",
       "    </tr>\n",
       "  </thead>\n",
       "  <tbody>\n",
       "    <tr>\n",
       "      <th>0</th>\n",
       "      <td>4</td>\n",
       "      <td>0.218</td>\n",
       "      <td>0.594</td>\n",
       "      <td>127.031652</td>\n",
       "    </tr>\n",
       "    <tr>\n",
       "      <th>1</th>\n",
       "      <td>6</td>\n",
       "      <td>0.160</td>\n",
       "      <td>1.188</td>\n",
       "      <td>186.468480</td>\n",
       "    </tr>\n",
       "    <tr>\n",
       "      <th>2</th>\n",
       "      <td>8</td>\n",
       "      <td>0.147</td>\n",
       "      <td>1.782</td>\n",
       "      <td>256.976874</td>\n",
       "    </tr>\n",
       "    <tr>\n",
       "      <th>3</th>\n",
       "      <td>10</td>\n",
       "      <td>0.134</td>\n",
       "      <td>2.376</td>\n",
       "      <td>312.334704</td>\n",
       "    </tr>\n",
       "  </tbody>\n",
       "</table>\n",
       "</div>"
      ],
      "text/plain": [
       "    n      m      l           M\n",
       "0   4  0.218  0.594  127.031652\n",
       "1   6  0.160  1.188  186.468480\n",
       "2   8  0.147  1.782  256.976874\n",
       "3  10  0.134  2.376  312.334704"
      ]
     },
     "execution_count": 7,
     "metadata": {},
     "output_type": "execute_result"
    }
   ],
   "source": [
    "# Задание 3. уравновешиваем всегда на последнем от края\n",
    "\n",
    "a3 = pd.DataFrame()\n",
    "\n",
    "a3['n'] = np.arange(4, 11, 2)\n",
    "a3['m'] = ( # в г\n",
    "  0.218, 0.160, .147, .134\n",
    "  # 0.391, 0.267, 0.182, 0.119\n",
    ")\n",
    "a3['l'] = d * (a3['n'] / 2 - 1)\n",
    "a3['M'] = a3['m'] * (9.81 * 100) * a3['l']\n",
    "# latex(a3)\n",
    "a3"
   ]
  },
  {
   "cell_type": "code",
   "execution_count": 8,
   "metadata": {},
   "outputs": [
    {
     "name": "stdout",
     "output_type": "stream",
     "text": [
      " \n",
      "31.32 x + 1.457 \n",
      " error: 0.98157477\n"
     ]
    },
    {
     "data": {
      "image/png": "[encoded data removed]",
      "text/plain": [
       "<Figure size 640x480 with 1 Axes>"
      ]
     },
     "metadata": {},
     "output_type": "display_data"
    }
   ],
   "source": [
    "# график пункт 1\n",
    "\n",
    "# график\n",
    "ox = a3['n']\n",
    "oy = a3['M']\n",
    "\n",
    "plt.scatter(\n",
    "  ox,\n",
    "  oy,\n",
    "  s=10,\n",
    "  label='$\\mathcal{M}(n)$'\n",
    ")\n",
    "\n",
    "\n",
    "z1, res= np.polyfit(ox, oy, 1, full=False, cov=True)\n",
    "p1 = np.poly1d(z1)\n",
    "plt.plot(ox, p1(ox), linewidth=0.4, color='green', linestyle='-', label=f'$\\epsilon=${abs(round(100*(res[0][0] ** 0.5)/z1[0], 1))}%')\n",
    "print(str(p1), \"\\n error:\", round(res[0][0] ** 0.5, 8))\n",
    "plt.xlabel(\"n\")\n",
    "plt.ylabel(\"$\\mathcal{M}(n)$, дин$\\cdot$м\")\n",
    "plt.grid()\n",
    "plt.legend(loc='best')\n",
    "# plt.savefig(\"m(n).png\")\n",
    "plt.show()"
   ]
  },
  {
   "cell_type": "code",
   "execution_count": 9,
   "metadata": {},
   "outputs": [
    {
     "name": "stdout",
     "output_type": "stream",
     "text": [
      "b=0.44931610271120676\n",
      "delta_b=-0.014972240413894444\n"
     ]
    }
   ],
   "source": [
    "k = 31.32\n",
    "delta_k = 0.98157477\n",
    "b = k / mk_b\n",
    "delta_b = b - (k + delta_k) / (mk_b - abs(delta_mk_b))\n",
    "print(f\"{b=}\\n{delta_b=}\")"
   ]
  },
  {
   "cell_type": "code",
   "execution_count": 10,
   "metadata": {},
   "outputs": [
    {
     "data": {
      "text/plain": [
       "-0.0015961514612019556"
      ]
     },
     "execution_count": 10,
     "metadata": {},
     "output_type": "execute_result"
    }
   ],
   "source": [
    "np.arctan(b/b_pr)/(2*np.pi)*360\n",
    "np.sqrt(b_pr**2 + b**2) - np.sqrt((b_pr+delta_b_pr)**2 + (b+delta_b)**2)"
   ]
  }
 ],
 "metadata": {
  "kernelspec": {
   "display_name": "Python 3",
   "language": "python",
   "name": "python3"
  },
  "language_info": {
   "codemirror_mode": {
    "name": "ipython",
    "version": 3
   },
   "file_extension": ".py",
   "mimetype": "text/x-python",
   "name": "python",
   "nbconvert_exporter": "python",
   "pygments_lexer": "ipython3",
   "version": "3.8.10"
  },
  "orig_nbformat": 4
 },
 "nbformat": 4,
 "nbformat_minor": 2
}
