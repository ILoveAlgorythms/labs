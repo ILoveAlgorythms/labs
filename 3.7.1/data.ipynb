{
 "cells": [
  {
   "cell_type": "code",
   "execution_count": 1,
   "metadata": {},
   "outputs": [],
   "source": [
    "# этот ноутбук относится к лабе 3.7.1\n",
    "import numpy as np\n",
    "import pandas as pd\n",
    "import matplotlib.pyplot as plt\n",
    "from pyperclip import copy\n",
    "def latex(d: pd.DataFrame, print_output=False) -> None:\n",
    "  (print if print_output else copy)(d.to_latex(index=False))"
   ]
  },
  {
   "cell_type": "code",
   "execution_count": 7,
   "metadata": {},
   "outputs": [
    {
     "data": {
      "text/plain": [
       "112.6361946864086"
      ]
     },
     "execution_count": 7,
     "metadata": {},
     "output_type": "execute_result"
    }
   ],
   "source": [
    "d_naruzh = 45 * 10**-3\n",
    "h_stenki = 1.5 * 10**-3\n",
    "mu_0 = 1.256 * 10**-6\n",
    "sigma = 5 * 10**7\n",
    "\n",
    "omega_h = (np.sqrt(2 / (sigma * mu_0)) * (h_stenki**-1))**2\n",
    "nu_h = omega_h/(2*np.pi)\n",
    "nu_h * 0.05"
   ]
  },
  {
   "cell_type": "code",
   "execution_count": null,
   "metadata": {},
   "outputs": [],
   "source": [
    "a3 = pd.DataFrame()\n",
    "a3['i'] = [0.535, 0.531, 0.527, 0.521, 0.515, 0.508, 0.502, 0.495, 0.488, 0.481, 0.475, 0.468]\n",
    "a3['v'] = [0.179, 0.235, 0.289, 0.340, 0.388, 0.433, 0.473, 0.511, 0.544, 0.575, 0.603, 0.629]\n",
    "a3['nu'] = list(np.arange(22, 111, 8))\n",
    "a3"
   ]
  },
  {
   "cell_type": "code",
   "execution_count": null,
   "metadata": {},
   "outputs": [],
   "source": [
    "a4 = pd.DataFrame() # мод на осцилографе: 1 ms\n",
    "a4['i']  = [449, 442, 435, 430, 424, 419, 415, 410] * 10**-3\n",
    "a4['v']  = [611, 637, 661, 681, 700, 715, 729, 741] * 10**-3\n",
    "a4['dfi']= [1.3, 1.1, 1,   0.9, 0.8, 0.7, 0.6, 0.5] # в больших клетках\n",
    "a4['nu'] = list(np.arange(112, 200, 10))\n",
    "\n",
    "a4_2 = pd.DataFrame()# мод на осцилографе: .5  ms\n",
    "a4_2['fi_mod'] = [.5, .5,.2, .1,  .1,  .1, .05,  .05, 0.05]\n",
    "a4_2['i']  = [403, 377, 362, 352, 344, 335, 327, 319, 310] * 10**-3\n",
    "a4_2['v']  = [759, 812, 825, 824, 816, 804, 788, 771, 753] * 10**-3\n",
    "a4_2['dfi']= [0.8, 0.5, 0.4, 0.4, 0.1, 0.05,0.7, 0.5, 0.4] # в больших клетках\n",
    "a4_2['nu'] = list(np.arange(200, 1001, 100))"
   ]
  },
  {
   "cell_type": "code",
   "execution_count": 25,
   "metadata": {},
   "outputs": [
    {
     "data": {
      "text/plain": [
       "[1.0,\n",
       " 1.26,\n",
       " 1.59,\n",
       " 2.0,\n",
       " 2.52,\n",
       " 3.18,\n",
       " 4.0,\n",
       " 5.04,\n",
       " 6.35,\n",
       " 8.0,\n",
       " 10.09,\n",
       " 12.71,\n",
       " 16.01,\n",
       " 20.18,\n",
       " 25.42,\n",
       " 32.03]"
      ]
     },
     "execution_count": 25,
     "metadata": {},
     "output_type": "execute_result"
    }
   ],
   "source": [
    "32 ** (1/15)\n",
    "[round(1.26 ** i, 2) for i in range(16)]"
   ]
  },
  {
   "cell_type": "code",
   "execution_count": null,
   "metadata": {},
   "outputs": [],
   "source": [
    "a5 = pd.DataFrame()\n",
    "a5['nu']     = [round(1.26 ** i, 2) for i in range(16)] * 10**3\n",
    "a5['i']      = [310, 289, 262, 233, 201, 169, 141, 115, 92,  74,  58,  44.1, 32.8, 22.7, 13.4, 4.28] * 10**-3\n",
    "a5['v']      = [753, 703, 640, 566, 486, 406, 332, 265, 207, 158, 118, 86.7, 62.4, 42.7, 30.4, 21.0] * 10**-3\n",
    "a5['fi_mod'] = [.005,.005,.02, .02, .02, .02, .02, .02, .02, .02, .02, .02, .02,   .02, .02,   .02]\n",
    "a5['dfi']    = [4,   2.4, 0.9, 1,   1.1, 1.2, 1.2, 1.2, 1.2, 1.3, 1.3, 1.3,  1.3,  1.3,  1.3,   1.3] # в больших клетках\n",
    "a5"
   ]
  },
  {
   "cell_type": "code",
   "execution_count": null,
   "metadata": {},
   "outputs": [],
   "source": [
    "a6 = pd.DataFrame()\n",
    "a6['ls'] = [8.8, 6.3, 4.93, 4.19, 3.78, 3.54, -1, 3.29] * 10**-3\n",
    "a6['nu'] = list(np.arange(100, 1101, 100))\n",
    "a6_2 = pd.DataFrame()\n",
    "a6_2['ls'] = [3, 2.98, 2.96, 2.96] * 10**-3\n",
    "a6_2['nu'] = [2, 2.5, 3] * 10**3"
   ]
  },
  {
   "cell_type": "code",
   "execution_count": 5,
   "metadata": {},
   "outputs": [
    {
     "name": "stdout",
     "output_type": "stream",
     "text": [
      " \n",
      "0.379 x - 0.03295 \n",
      "eror: 0.00942655105950751\n"
     ]
    },
    {
     "data": {
      "image/png": "[encoded data removed]",
      "text/plain": [
       "<Figure size 640x480 with 1 Axes>"
      ]
     },
     "metadata": {},
     "output_type": "display_data"
    }
   ],
   "source": [
    "# график пункт 1\n",
    "\n",
    "# график\n",
    "ox = a2['n']\n",
    "oy = a2['t']\n",
    "\n",
    "plt.scatter(\n",
    "  ox,\n",
    "  oy,\n",
    "  s=10,\n",
    "  label=\"Зависимость T(n)\"\n",
    ")\n",
    "\n",
    "\n",
    "z1, res= np.polyfit(ox, oy, 1, full=False, cov=True)\n",
    "p1 = np.poly1d(z1)\n",
    "plt.plot(ox, p1(ox), linewidth=0.4, color='green', linestyle='-', label=f'σ={round(100*res[0][0] ** 0.5, 2)}%')\n",
    "print(str(p1), \"\\neror:\", res[0][0] ** 0.5)\n",
    "plt.xlabel(\"T, с\")\n",
    "plt.ylabel(\"n\")\n",
    "plt.grid()\n",
    "plt.legend(loc='best')\n",
    "# plt.savefig(\"T(n).png\")\n",
    "plt.show()\n",
    "k = p1[1]"
   ]
  },
  {
   "cell_type": "code",
   "execution_count": 21,
   "metadata": {},
   "outputs": [
    {
     "data": {
      "text/plain": [
       "3.2659863237109046"
      ]
     },
     "execution_count": 21,
     "metadata": {},
     "output_type": "execute_result"
    }
   ],
   "source": [
    "omega=3000\n",
    "sigma = 5*10**7\n",
    "mu0=1.25*10**-6\n",
    "(2/(omega*sigma*mu0))**0.5*1000"
   ]
  }
 ],
 "metadata": {
  "kernelspec": {
   "display_name": "Python 3",
   "language": "python",
   "name": "python3"
  },
  "language_info": {
   "codemirror_mode": {
    "name": "ipython",
    "version": 3
   },
   "file_extension": ".py",
   "mimetype": "text/x-python",
   "name": "python",
   "nbconvert_exporter": "python",
   "pygments_lexer": "ipython3",
   "version": "3.8.10"
  },
  "orig_nbformat": 4
 },
 "nbformat": 4,
 "nbformat_minor": 2
}
