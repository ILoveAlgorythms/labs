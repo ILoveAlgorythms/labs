{
 "cells": [
  {
   "cell_type": "code",
   "execution_count": 1,
   "metadata": {},
   "outputs": [],
   "source": [
    "# этот ноутбук относится к лабе 3.6.1\n",
    "import numpy as np\n",
    "import pandas as pd\n",
    "import matplotlib.pyplot as plt\n",
    "from pyperclip import copy as cp"
   ]
  },
  {
   "cell_type": "code",
   "execution_count": 2,
   "metadata": {},
   "outputs": [
    {
     "data": {
      "text/plain": [
       "7"
      ]
     },
     "execution_count": 2,
     "metadata": {},
     "output_type": "execute_result"
    }
   ],
   "source": [
    "# A\n",
    "\n",
    "data = pd.DataFrame()\n",
    "data['nu'] = [1.023, 2.001, 3, 4, 5,            6, 7] #kHz\n",
    "data['a']  = [31.07, 20.15, 13.07, 10.76, 8.26, 7, 6.1] #mV\n",
    "\n",
    "data2 = pd.DataFrame()\n",
    "data['tau']      = [20, 40, 60, 80, 100, 120] #muS\n",
    "data['delta_nu'] = [20, 16, 12, 10, 16, 14] #kHz\n",
    "\n",
    "data3 = pd.DataFrame() # tau = 100мкс\n",
    "data3['T']      = [200, 800, 1400, 2000] #us\n",
    "data3['delta_nu'] = [1, 1.25, 1.43-0.72, 0.5] #kHz"
   ]
  }
 ],
 "metadata": {
  "kernelspec": {
   "display_name": "Python 3",
   "language": "python",
   "name": "python3"
  },
  "language_info": {
   "codemirror_mode": {
    "name": "ipython",
    "version": 3
   },
   "file_extension": ".py",
   "mimetype": "text/x-python",
   "name": "python",
   "nbconvert_exporter": "python",
   "pygments_lexer": "ipython3",
   "version": "3.8.10"
  },
  "orig_nbformat": 4
 },
 "nbformat": 4,
 "nbformat_minor": 2
}
