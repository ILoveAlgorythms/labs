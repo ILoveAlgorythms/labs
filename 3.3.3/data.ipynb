{
 "cells": [
  {
   "cell_type": "code",
   "execution_count": 87,
   "metadata": {},
   "outputs": [],
   "source": [
    "# этот ноутбук относится к лабе 3.3.3\n",
    "import numpy as np\n",
    "import pandas as pd\n",
    "import matplotlib.pyplot as plt\n",
    "import matplotlib.animation as animation\n",
    "from ipywidgets import interact\n",
    "# from pyperclip import copy\n",
    "\n",
    "def latex(d: pd.DataFrame, name, print_output=False) -> None:\n",
    "  if print_output:\n",
    "    print(d.to_latex(index=False))\n",
    "    return\n",
    "  with open(\"table \"+name+\".tex\", 'w+') as file:\n",
    "    file.write(d.to_latex(index=False))\n"
   ]
  },
  {
   "cell_type": "code",
   "execution_count": 88,
   "metadata": {},
   "outputs": [
    {
     "name": "stderr",
     "output_type": "stream",
     "text": [
      "/tmp/ipykernel_1631479/4287537343.py:14: FutureWarning: In future versions `DataFrame.to_latex` is expected to utilise the base implementation of `Styler.to_latex` for formatting and rendering. The arguments signature may therefore change. It is recommended instead to use `DataFrame.style.to_latex` which also contains additional functionality.\n",
      "  file.write(d.to_latex(index=False))\n"
     ]
    },
    {
     "data": {
      "text/html": [
       "<div>\n",
       "<style scoped>\n",
       "    .dataframe tbody tr th:only-of-type {\n",
       "        vertical-align: middle;\n",
       "    }\n",
       "\n",
       "    .dataframe tbody tr th {\n",
       "        vertical-align: top;\n",
       "    }\n",
       "\n",
       "    .dataframe thead th {\n",
       "        text-align: right;\n",
       "    }\n",
       "</style>\n",
       "<table border=\"1\" class=\"dataframe\">\n",
       "  <thead>\n",
       "    <tr style=\"text-align: right;\">\n",
       "      <th></th>\n",
       "      <th>n</th>\n",
       "      <th>t0</th>\n",
       "      <th>t</th>\n",
       "      <th>kV</th>\n",
       "    </tr>\n",
       "  </thead>\n",
       "  <tbody>\n",
       "    <tr>\n",
       "      <th>0</th>\n",
       "      <td>1</td>\n",
       "      <td>15.65</td>\n",
       "      <td>13.25</td>\n",
       "      <td>0.48</td>\n",
       "    </tr>\n",
       "    <tr>\n",
       "      <th>1</th>\n",
       "      <td>1</td>\n",
       "      <td>16.33</td>\n",
       "      <td>14.13</td>\n",
       "      <td>0.48</td>\n",
       "    </tr>\n",
       "    <tr>\n",
       "      <th>2</th>\n",
       "      <td>1</td>\n",
       "      <td>14.16</td>\n",
       "      <td>14.13</td>\n",
       "      <td>0.46</td>\n",
       "    </tr>\n",
       "    <tr>\n",
       "      <th>3</th>\n",
       "      <td>1</td>\n",
       "      <td>17.38</td>\n",
       "      <td>15.25</td>\n",
       "      <td>0.46</td>\n",
       "    </tr>\n",
       "    <tr>\n",
       "      <th>4</th>\n",
       "      <td>1</td>\n",
       "      <td>15.85</td>\n",
       "      <td>13.51</td>\n",
       "      <td>0.49</td>\n",
       "    </tr>\n",
       "    <tr>\n",
       "      <th>...</th>\n",
       "      <td>...</td>\n",
       "      <td>...</td>\n",
       "      <td>...</td>\n",
       "      <td>...</td>\n",
       "    </tr>\n",
       "    <tr>\n",
       "      <th>56</th>\n",
       "      <td>13</td>\n",
       "      <td>29.95</td>\n",
       "      <td>14.75</td>\n",
       "      <td>0.25</td>\n",
       "    </tr>\n",
       "    <tr>\n",
       "      <th>57</th>\n",
       "      <td>13</td>\n",
       "      <td>29.91</td>\n",
       "      <td>12.46</td>\n",
       "      <td>0.25</td>\n",
       "    </tr>\n",
       "    <tr>\n",
       "      <th>58</th>\n",
       "      <td>14</td>\n",
       "      <td>13.05</td>\n",
       "      <td>9.00</td>\n",
       "      <td>-0.34</td>\n",
       "    </tr>\n",
       "    <tr>\n",
       "      <th>59</th>\n",
       "      <td>14</td>\n",
       "      <td>14.18</td>\n",
       "      <td>20.53</td>\n",
       "      <td>-0.22</td>\n",
       "    </tr>\n",
       "    <tr>\n",
       "      <th>60</th>\n",
       "      <td>14</td>\n",
       "      <td>12.71</td>\n",
       "      <td>21.00</td>\n",
       "      <td>-0.22</td>\n",
       "    </tr>\n",
       "  </tbody>\n",
       "</table>\n",
       "<p>61 rows × 4 columns</p>\n",
       "</div>"
      ],
      "text/plain": [
       "     n     t0      t    kV\n",
       "0    1  15.65  13.25  0.48\n",
       "1    1  16.33  14.13  0.48\n",
       "2    1  14.16  14.13  0.46\n",
       "3    1  17.38  15.25  0.46\n",
       "4    1  15.85  13.51  0.49\n",
       "..  ..    ...    ...   ...\n",
       "56  13  29.95  14.75  0.25\n",
       "57  13  29.91  12.46  0.25\n",
       "58  14  13.05   9.00 -0.34\n",
       "59  14  14.18  20.53 -0.22\n",
       "60  14  12.71  21.00 -0.22\n",
       "\n",
       "[61 rows x 4 columns]"
      ]
     },
     "execution_count": 88,
     "metadata": {},
     "output_type": "execute_result"
    }
   ],
   "source": [
    "data = pd.read_csv('laba333.csv').sort_values('n', ignore_index=True)\n",
    "data_print = data.copy()\n",
    "data_print['kV'] = (data_print['kV'] * 1000).astype('int')\n",
    "latex(data_print[data_print['n'] < 8], \"data<8\")\n",
    "latex(data_print[data_print['n'] >= 8], \"data>=8\")\n",
    "data"
   ]
  },
  {
   "cell_type": "code",
   "execution_count": 131,
   "metadata": {},
   "outputs": [
    {
     "name": "stdout",
     "output_type": "stream",
     "text": [
      "7.646265063875116e-15\n"
     ]
    }
   ],
   "source": [
    "rho = 898 # Си\n",
    "h = 10**-3 # м\n",
    "eta = 1.83 * 10**-5 #Си\n",
    "l = 0.725*10**-2 # Си\n",
    "g = 9.81\n",
    "e_podgon = -1.6022\n",
    "\n",
    "koef = 9 * np.pi *\\\n",
    "  np.sqrt(\\\n",
    "    (2 * eta**3 * h**3) / (g * rho)\n",
    "  ) * l\n",
    "print(koef)\n",
    "\n",
    "def q(t_0, t, V):\n",
    "  V = 10**3 * V\n",
    "  if 1==0:\n",
    "    print(\"--> \", t_0)\n",
    "  ans = koef * ((t_0 + t) / (V * (t_0**1.5) * t))\n",
    "  return ans"
   ]
  },
  {
   "cell_type": "code",
   "execution_count": 90,
   "metadata": {},
   "outputs": [],
   "source": [
    "for i in range(len(data)):\n",
    "  data['q'] = q(data['t0'], data['t'], data['kV'])*10**19"
   ]
  },
  {
   "cell_type": "code",
   "execution_count": 91,
   "metadata": {},
   "outputs": [],
   "source": [
    "a = data[data['q'] < 2222]['q']\n",
    "# b = data[data['q'] >=2]['q']"
   ]
  },
  {
   "cell_type": "code",
   "execution_count": 77,
   "metadata": {},
   "outputs": [],
   "source": [
    "def style():\n",
    "  plt.tick_params(\n",
    "      axis='y',          # changes apply to the x-axis\n",
    "      which='both',      # both major and minor ticks are affected\n",
    "      left=False,      # ticks along the bottom edge are off\n",
    "      right=False,         # ticks along the top edge are off\n",
    "      labelleft=False) \n",
    "      \n",
    "  plt.tick_params(\n",
    "      axis='x',          # changes apply to the x-axis\n",
    "      which='both',      # both major and minor ticks are affected\n",
    "      top=False,      # ticks along the bottom edge are off\n",
    "      bottom=True,         # ticks along the top edge are off\n",
    "      labelbottom=True) \n",
    "\n",
    "  plt.xticks(\n",
    "      ticks=np.arange(0, 14, step=1),\n",
    "      labels=np.arange(0, 14, step=1),\n",
    "      minor=False\n",
    "  )\n",
    "  plt.xticks(\n",
    "      ticks=np.arange(0, 14, step=0.2),\n",
    "      minor=True\n",
    "  )"
   ]
  },
  {
   "cell_type": "code",
   "execution_count": 96,
   "metadata": {},
   "outputs": [
    {
     "data": {
      "image/png": "[encoded data removed]",
      "text/plain": [
       "<Figure size 1600x70 with 1 Axes>"
      ]
     },
     "metadata": {},
     "output_type": "display_data"
    }
   ],
   "source": [
    "plt.figure(figsize=(16, 0.7))\n",
    "plt.scatter(a, np.zeros(len(a)), s=2)\n",
    "# plt.scatter(b, np.zeros(len(b)), s=2)\n",
    "\n",
    "plt.grid(axis='x', which='both', alpha=0.6)\n",
    "style()\n",
    "plt.xlim(0.8, 12.8)\n",
    "\n",
    "data.loc\n",
    "plt.show()"
   ]
  },
  {
   "cell_type": "code",
   "execution_count": 79,
   "metadata": {},
   "outputs": [
    {
     "data": {
      "text/plain": [
       "1.510771444878443"
      ]
     },
     "execution_count": 79,
     "metadata": {},
     "output_type": "execute_result"
    }
   ],
   "source": [
    "np.median(data[(data['q'] > 1.2) & (data['q'] < 2)]['q'])"
   ]
  },
  {
   "cell_type": "code",
   "execution_count": 80,
   "metadata": {},
   "outputs": [
    {
     "name": "stdout",
     "output_type": "stream",
     "text": [
      "-10.781987862172409 12.292759307050853\n",
      "[-0.87710071  0.12289929  0.46002372  0.8283678   0.91912494  1.01116583]\n"
     ]
    }
   ],
   "source": [
    "# latex(q_s, name=\"q\", print_output=True)\n",
    "q_s = [\n",
    "       np.median(data[data['q'] < 1.2]['q']),\n",
    "       np.median(data[(data['q'] > 1.2) & (data['q'] < 2)]['q']),\n",
    "       np.median(data[(data['q'] > 2) & (data['q'] < 6.8)]['q']),\n",
    "       np.median(data[(data['q'] > 7) & (data['q'] < 10.4)]['q']),\n",
    "       np.median(data[(data['q'] > 10.5) & (data['q'] < 12)]['q']),\n",
    "       np.median(data[data['q'] > 12]['q'])]\n",
    "# q_s = pd.DataFrame(q_s)\n",
    "print(q_s[0], q_s[1] - q_s[0])\n",
    "print(q_s/ (q_s[1] - q_s[0]))"
   ]
  },
  {
   "cell_type": "code",
   "execution_count": 81,
   "metadata": {},
   "outputs": [
    {
     "data": {
      "text/plain": [
       "8.157407471816936e-11"
      ]
     },
     "execution_count": 81,
     "metadata": {},
     "output_type": "execute_result"
    }
   ],
   "source": [
    "(1 / 9.81) * (10**-3/np.max(data['t0']))**2"
   ]
  },
  {
   "cell_type": "code",
   "execution_count": 82,
   "metadata": {},
   "outputs": [
    {
     "ename": "SyntaxError",
     "evalue": "invalid syntax (1916998501.py, line 2)",
     "output_type": "error",
     "traceback": [
      "\u001b[0;36m  Cell \u001b[0;32mIn[82], line 2\u001b[0;36m\u001b[0m\n\u001b[0;31m    v_- = 0.28\u001b[0m\n\u001b[0m        ^\u001b[0m\n\u001b[0;31mSyntaxError\u001b[0m\u001b[0;31m:\u001b[0m invalid syntax\n"
     ]
    }
   ],
   "source": [
    "# пункт 8\n",
    "v_- = 0.28\n",
    "t_down = 7.53\n",
    "\n",
    "\n",
    "v_+ = 0.28\n",
    "t_up= 6.81"
   ]
  },
  {
   "cell_type": "code",
   "execution_count": null,
   "metadata": {},
   "outputs": [
    {
     "name": "stdout",
     "output_type": "stream",
     "text": [
      "0\n"
     ]
    }
   ],
   "source": [
    "cel = 1\n",
    "d = data[(data['q'] >= cel) & (data['q'] < cel + step)]['q'].count()\n",
    "print(d)"
   ]
  },
  {
   "cell_type": "code",
   "execution_count": 112,
   "metadata": {},
   "outputs": [],
   "source": [
    "for i in range(len(data)):\n",
    "  data['q'] = abs(q(data['t0'], data['t'], data['kV'])*10**19)"
   ]
  },
  {
   "cell_type": "code",
   "execution_count": null,
   "metadata": {},
   "outputs": [],
   "source": [
    "data['q'] = abs(data['q'])"
   ]
  },
  {
   "cell_type": "code",
   "execution_count": 145,
   "metadata": {},
   "outputs": [
    {
     "data": {
      "image/png": "[encoded data removed]",
      "text/plain": [
       "<Figure size 640x480 with 1 Axes>"
      ]
     },
     "metadata": {},
     "output_type": "display_data"
    }
   ],
   "source": [
    "# a\n",
    "step = 2\n",
    "mn = data['q'].min()-0.001\n",
    "mx = data['q'].max()+0.001\n",
    "y = []\n",
    "x = []\n",
    "\n",
    "plt.xticks(\n",
    "  ticks=np.arange(round(mn), round(mx), step=1),\n",
    "  # labels=np.arange(0, 14, step=1),\n",
    "  minor=True\n",
    ")\n",
    "# @interact(megastep=(0.1, 10, 0.01), milistep=(0.001, 0.5, 0.001))\n",
    "def plot(step):\n",
    "  for i in np.arange(mn, mx, step):\n",
    "    x.append(i)\n",
    "    y.append(data[(data['q'] >= i) & (data['q'] < i + step)]['q'].count())\n",
    "\n",
    "  plt.bar(x=x, height=y, width=0.05)\n",
    "  plt.show()\n",
    "\n",
    "\n",
    "plot(0.1)"
   ]
  },
  {
   "cell_type": "code",
   "execution_count": 141,
   "metadata": {},
   "outputs": [
    {
     "data": {
      "text/plain": [
       "(-0.8098653411236324, -3.5825205670517875, -6.9403878137716895)"
      ]
     },
     "execution_count": 141,
     "metadata": {},
     "output_type": "execute_result"
    }
   ],
   "source": [
    "a = data[data['q'] < 4]['q'].median() / e_podgon\n",
    "b = data[(data['q']> 4) &(data['q']<8)  ]['q'][1:].median() / e_podgon\n",
    "c = data[data['q'] >8]['q'].median() / e_podgon\n",
    "q_q = (a,b, c)\n",
    "q_q"
   ]
  }
 ],
 "metadata": {
  "kernelspec": {
   "display_name": "Python 3",
   "language": "python",
   "name": "python3"
  },
  "language_info": {
   "codemirror_mode": {
    "name": "ipython",
    "version": 3
   },
   "file_extension": ".py",
   "mimetype": "text/x-python",
   "name": "python",
   "nbconvert_exporter": "python",
   "pygments_lexer": "ipython3",
   "version": "3.8.10"
  },
  "orig_nbformat": 4
 },
 "nbformat": 4,
 "nbformat_minor": 2
}
