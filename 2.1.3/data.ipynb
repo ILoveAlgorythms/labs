{
 "cells": [
  {
   "cell_type": "code",
   "execution_count": 8,
   "metadata": {},
   "outputs": [],
   "source": [
    "# этот ноутбук относится к лабе 2.1.3\n",
    "\n",
    "import numpy as np\n",
    "import pandas as pd\n",
    "import matplotlib.pyplot as plt"
   ]
  },
  {
   "cell_type": "code",
   "execution_count": null,
   "metadata": {},
   "outputs": [],
   "source": [
    "# скорость звука 300 м/c => если труба порядка метра, длина волны должны быть порядка 0.1 м => 3gHz\n",
    "# комнатная температура 23.7"
   ]
  },
  {
   "attachments": {},
   "cell_type": "markdown",
   "metadata": {},
   "source": [
    "Начальная длина -- $570$ мм, зависимость частоты от длины:"
   ]
  },
  {
   "cell_type": "code",
   "execution_count": 6,
   "metadata": {},
   "outputs": [],
   "source": [
    "# зависимость частоты от длины, начальная длина -- 570 мм\n",
    "f = np.array((4.015, 5.320, 2.686, 1.604)) #kHz\n",
    "l = np.array((38, 80, 125, 168, 210)) + 570 # 4.02kHz , считаю что 1 на шкале = 10мм\n",
    "l = np.array((25, 57, 120, 186)) + 570 # 5.32kHz , точка гавно, ищется резонансы выражаются слабо\n",
    "l = np.array((20, 85, 147)) + 570 # 2.69kHz , точка гавно, ищется резонансы выражаются слабо\n",
    "        l = np.array((110)) + 570 # 1.05kHz ток одна точка\n",
    "l = np.array((88, 196)) + 570 # 1.60kHz"
   ]
  },
  {
   "attachments": {},
   "cell_type": "markdown",
   "metadata": {},
   "source": [
    "$CO_2$"
   ]
  },
  {
   "cell_type": "code",
   "execution_count": null,
   "metadata": {},
   "outputs": [],
   "source": [
    "# углекислый газ\n",
    "f = np.array((2.259, 4.103)) #kHz\n",
    "l = np.array((152, 218)) + 570 # 2.26kHz\n",
    "l = np.array((70, 167)) + 570 # 4.10kHz\n"
   ]
  },
  {
   "cell_type": "code",
   "execution_count": 36,
   "metadata": {},
   "outputs": [],
   "source": [
    "# перешли на установку которая греет, длина 740+-1\n",
    "temp = np.array((23.7, 30.1, 40.1, 50.1))\n",
    "f_res = np.array((0.232, 0.464, 0.701, 0.945, 1.400, 1.612, 1.844, 2.08)) # 23.7 первая точка плохая (при 29 С)\n",
    "f_res = np.array((240, 475, 711, 947, 1175, 1405, 1640, 1868, 2105, 2350)) #Hz 30.1\n",
    "f_res = np.array((242, 483, 725, 961, 1188, 1433, 1670, 1906, 2141, 2380)) #Hz 40.1\n",
    "f_res = np.array((243, 490, 732, 974, 1217, 1458, 1700, 1837, 2181, 2428)) #Hz 50.1"
   ]
  },
  {
   "cell_type": "code",
   "execution_count": 105,
   "metadata": {},
   "outputs": [
    {
     "name": "stdout",
     "output_type": "stream",
     "text": [
      "dict_keys(['aliceblue', 'antiquewhite', 'aqua', 'aquamarine', 'azure', 'beige', 'bisque', 'black', 'blanchedalmond', 'blue', 'blueviolet', 'brown', 'burlywood', 'cadetblue', 'chartreuse', 'chocolate', 'coral', 'cornflowerblue', 'cornsilk', 'crimson', 'cyan', 'darkblue', 'darkcyan', 'darkgoldenrod', 'darkgray', 'darkgreen', 'darkgrey', 'darkkhaki', 'darkmagenta', 'darkolivegreen', 'darkorange', 'darkorchid', 'darkred', 'darksalmon', 'darkseagreen', 'darkslateblue', 'darkslategray', 'darkslategrey', 'darkturquoise', 'darkviolet', 'deeppink', 'deepskyblue', 'dimgray', 'dimgrey', 'dodgerblue', 'firebrick', 'floralwhite', 'forestgreen', 'fuchsia', 'gainsboro', 'ghostwhite', 'gold', 'goldenrod', 'gray', 'green', 'greenyellow', 'grey', 'honeydew', 'hotpink', 'indianred', 'indigo', 'ivory', 'khaki', 'lavender', 'lavenderblush', 'lawngreen', 'lemonchiffon', 'lightblue', 'lightcoral', 'lightcyan', 'lightgoldenrodyellow', 'lightgray', 'lightgreen', 'lightgrey', 'lightpink', 'lightsalmon', 'lightseagreen', 'lightskyblue', 'lightslategray', 'lightslategrey', 'lightsteelblue', 'lightyellow', 'lime', 'limegreen', 'linen', 'magenta', 'maroon', 'mediumaquamarine', 'mediumblue', 'mediumorchid', 'mediumpurple', 'mediumseagreen', 'mediumslateblue', 'mediumspringgreen', 'mediumturquoise', 'mediumvioletred', 'midnightblue', 'mintcream', 'mistyrose', 'moccasin', 'navajowhite', 'navy', 'oldlace', 'olive', 'olivedrab', 'orange', 'orangered', 'orchid', 'palegoldenrod', 'palegreen', 'paleturquoise', 'palevioletred', 'papayawhip', 'peachpuff', 'peru', 'pink', 'plum', 'powderblue', 'purple', 'rebeccapurple', 'red', 'rosybrown', 'royalblue', 'saddlebrown', 'salmon', 'sandybrown', 'seagreen', 'seashell', 'sienna', 'silver', 'skyblue', 'slateblue', 'slategray', 'slategrey', 'snow', 'springgreen', 'steelblue', 'tan', 'teal', 'thistle', 'tomato', 'turquoise', 'violet', 'wheat', 'white', 'whitesmoke', 'yellow', 'yellowgreen'])\n"
     ]
    },
    {
     "data": {
      "image/png": "[encoded data removed]",
      "text/plain": [
       "<Figure size 640x480 with 1 Axes>"
      ]
     },
     "metadata": {},
     "output_type": "display_data"
    }
   ],
   "source": [
    "import matplotlib.colors as mcolors\n",
    "print(mcolors.CSS4_COLORS.keys())\n",
    "for i in range(10):\n",
    "  plt.scatter(i, (i + 2) % 3,marker=(6,1, i*40), linewidths=2, s=1000, color='deeppink')"
   ]
  },
  {
   "cell_type": "code",
   "execution_count": 71,
   "metadata": {},
   "outputs": [
    {
     "data": {
      "text/plain": [
       "<matplotlib.collections.PathCollection at 0x7f4a2c1d2f10>"
      ]
     },
     "execution_count": 71,
     "metadata": {},
     "output_type": "execute_result"
    },
    {
     "data": {
      "image/png": "[encoded data removed]",
      "text/plain": [
       "<Figure size 640x480 with 1 Axes>"
      ]
     },
     "metadata": {},
     "output_type": "display_data"
    }
   ],
   "source": [
    "plt.scatter(range(len(f_res)),  f_res, marker='$хуй$', linewidths=0.1)"
   ]
  },
  {
   "cell_type": "code",
   "execution_count": null,
   "metadata": {},
   "outputs": [],
   "source": [
    "plt.barh(range(len(f_res)),  f_res, ,\n",
    "         color = ('pink', 'lightgreen') * 5, edgecolor=('green', 'magenta') * 5)\n",
    "print(len(f_res))"
   ]
  },
  {
   "cell_type": "code",
   "execution_count": null,
   "metadata": {},
   "outputs": [],
   "source": [
    "ox = x\n",
    "oy = ot_x\n",
    "\n",
    "plt.scatter(\n",
    "  ox,  # ординаты точек\n",
    "  oy,  # абсциссы точек\n",
    "  # linestyle='',\n",
    "  # xerr = 0,\n",
    "  # yerr = 0,\n",
    "  # marker=\".\",\n",
    "  s=1,\n",
    "  label=\"V(t), 40\"\n",
    "  # elinewidth=2\n",
    ")\n",
    "\n",
    "z1, res= np.polyfit(ox, oy, 1, full=False, cov=True)\n",
    "p1 = np.poly1d(z1)\n",
    "plt.plot(ox, p1(ox), linewidth=0.7, color='red', linestyle='-.')\n",
    "\n",
    "\n",
    "plt.legend(loc='best')\n",
    "# задаем шаг сетки по оси x\n",
    "plt.xticks(np.around(ox[::20]))\n",
    "plt.yticks(np.around(oy[::20]))\n",
    "plt.show()"
   ]
  }
 ],
 "metadata": {
  "kernelspec": {
   "display_name": "Python 3",
   "language": "python",
   "name": "python3"
  },
  "language_info": {
   "codemirror_mode": {
    "name": "ipython",
    "version": 3
   },
   "file_extension": ".py",
   "mimetype": "text/x-python",
   "name": "python",
   "nbconvert_exporter": "python",
   "pygments_lexer": "ipython3",
   "version": "3.8.10"
  },
  "orig_nbformat": 4
 },
 "nbformat": 4,
 "nbformat_minor": 2
}
