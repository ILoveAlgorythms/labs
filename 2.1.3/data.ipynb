{
 "cells": [
  {
   "cell_type": "code",
   "execution_count": null,
   "metadata": {},
   "outputs": [],
   "source": [
    "# этот ноутбук относится к лабе 2.1.3\n",
    "\n",
    "import numpy as np\n",
    "import pandas as pd\n",
    "# import matplotlib.pyploy as plt"
   ]
  },
  {
   "cell_type": "code",
   "execution_count": null,
   "metadata": {},
   "outputs": [],
   "source": [
    "# скорость звука 300 м/c => если труба порядка метра, длина волны должны быть порядка 0.1 м => 3gHz"
   ]
  },
  {
   "cell_type": "code",
   "execution_count": null,
   "metadata": {},
   "outputs": [],
   "source": [
    "ox = x\n",
    "oy = ot_x\n",
    "\n",
    "plt.scatter(\n",
    "  ox,  # ординаты точек\n",
    "  oy,  # абсциссы точек\n",
    "  # linestyle='',\n",
    "  # xerr = 0,\n",
    "  # yerr = 0,\n",
    "  # marker=\".\",\n",
    "  s=1,\n",
    "  label=\"V(t), 40\"\n",
    "  # elinewidth=2\n",
    ")\n",
    "\n",
    "z1, res= np.polyfit(ox, oy, 1, full=False, cov=True)\n",
    "p1 = np.poly1d(z1)\n",
    "plt.plot(ox, p1(ox), linewidth=0.7, color='red', linestyle='-.')\n",
    "\n",
    "\n",
    "plt.legend(loc='best')\n",
    "# задаем шаг сетки по оси x\n",
    "plt.xticks(np.around(ox[::20]))\n",
    "plt.yticks(np.around(oy[::20]))\n",
    "plt.show()"
   ]
  }
 ],
 "metadata": {
  "language_info": {
   "name": "python"
  },
  "orig_nbformat": 4
 },
 "nbformat": 4,
 "nbformat_minor": 2
}
