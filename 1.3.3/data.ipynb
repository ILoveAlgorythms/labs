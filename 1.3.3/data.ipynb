{
 "cells": [
  {
   "cell_type": "code",
   "execution_count": 1,
   "metadata": {},
   "outputs": [],
   "source": [
    "# этот ноутбук относится к лабе 113\n",
    "\n",
    "import numpy as np\n",
    "import pandas as pd\n",
    "import matplotlib.pyplot as plt\n",
    "\n",
    "def myrange(x, steps=10, around_=-1):\n",
    "  return np.around(np.arange(x.min(), x.max(), (x.max() - x.min())/steps, dtype=np.float64), around_)"
   ]
  },
  {
   "attachments": {},
   "cell_type": "markdown",
   "metadata": {},
   "source": []
  },
  {
   "cell_type": "code",
   "execution_count": 26,
   "metadata": {},
   "outputs": [],
   "source": [
    "l = (11, 41, 81, 131)\n",
    "l2 = l[0], l[0],  l[1], l[1],l[2], l[2],  l[3], l[3]\n",
    "# l2 = l[0], l[0], l[0], l[0],l[1], l[1], l[1], l[1],l[2], l[2], l[2], l[2],l[3], l[3], l[3], l[3]"
   ]
  },
  {
   "cell_type": "code",
   "execution_count": 27,
   "metadata": {},
   "outputs": [
    {
     "data": {
      "text/plain": [
       "[66, 113, 127, 168, 244, 324, 414, 502]"
      ]
     },
     "execution_count": 27,
     "metadata": {},
     "output_type": "execute_result"
    }
   ],
   "source": [
    "p1 = [\n",
    "  49, 66, 127, 185\n",
    "]\n",
    "p2 = [10, ]"
   ]
  },
  {
   "cell_type": "code",
   "execution_count": 28,
   "metadata": {},
   "outputs": [
    {
     "data": {
      "image/png": "[encoded data removed]",
      "text/plain": [
       "<Figure size 640x480 with 1 Axes>"
      ]
     },
     "metadata": {},
     "output_type": "display_data"
    }
   ],
   "source": [
    "ox = l2\n",
    "oy = p\n",
    "plt.scatter(\n",
    "  ox,\n",
    "  oy,\n",
    "  s=1,\n",
    "  label=\"adasd\"\n",
    ")\n",
    "\n",
    "# oy.sort()\n",
    "# plt.scatter(\n",
    "#   ox[:2000],\n",
    "#   oy[:2000],\n",
    "#   s=1,\n",
    "#   label=\"adasd\"\n",
    "# )\n",
    "plt.grid()\n",
    "plt.show()"
   ]
  },
  {
   "cell_type": "code",
   "execution_count": 7,
   "metadata": {},
   "outputs": [],
   "source": []
  },
  {
   "cell_type": "code",
   "execution_count": 6,
   "metadata": {},
   "outputs": [
    {
     "data": {
      "text/plain": [
       "17"
      ]
     },
     "execution_count": 6,
     "metadata": {},
     "output_type": "execute_result"
    }
   ],
   "source": [
    "len(p)"
   ]
  }
 ],
 "metadata": {
  "kernelspec": {
   "display_name": "Python 3",
   "language": "python",
   "name": "python3"
  },
  "language_info": {
   "codemirror_mode": {
    "name": "ipython",
    "version": 3
   },
   "file_extension": ".py",
   "mimetype": "text/x-python",
   "name": "python",
   "nbconvert_exporter": "python",
   "pygments_lexer": "ipython3",
   "version": "3.8.10"
  },
  "orig_nbformat": 4
 },
 "nbformat": 4,
 "nbformat_minor": 2
}
